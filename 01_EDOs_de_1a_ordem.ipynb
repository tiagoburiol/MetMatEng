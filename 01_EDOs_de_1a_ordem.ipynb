{
 "cells": [
  {
   "cell_type": "markdown",
   "metadata": {},
   "source": [
    "# 1. Estudo das Equações Diferenciais Ordinárias (EDOs) de 1ª ordem\n",
    "\n",
    "## 1.1 Introdução\n",
    "\n",
    "As equações diferenciais são relações entre uma função e suas derivadas e são usadas para modelar sistemas em todos os campos da engenharia e da ciência. Por exemplo, uma equação diferencial simples relaciona a aceleração de um carro com sua posição. Em geral, encontrar soluções exatas para equações diferenciais pode ser uma tarefa difícil ou até mesmo impossível. Portanto, soluções numéricas são alternativas para tornar essas equações úteis em projetos e estudo de fenômenos da natureza.\n",
    "\n",
    "Por exemplo, considere um pêndulo de comprimento $l$, com massa $m$ em sua extremidade, como ilustrado na figura abaixo. \n",
    "\n",
    "<img src=\"imagens/pendulo.png\" width=\"100\"/>\n",
    "\n",
    "O ângulo que o pêndulo faz com o eixo vertical ao longo do tempo, $\\theta (t)$ na presença de gravidade vertical $g$ pode ser descrito pela equação do pêndulo, que é a EDO\n",
    "\n",
    "$$\n",
    "ml\\frac{d^2\\theta(t)}{dt^2} = -mg \\, sen(\\theta(t)).\n",
    "$$\n",
    "\n",
    "Esta equação pode ser deduzida somando as forças nas direções $x$\n",
    "e $y$ e, em seguida, mudando para coordenadas polares.\n",
    "\n",
    "Essa é uma equação não linear de difícil solução mas pode ser simplificada assumindo que os ângulos são muito pequenos (ou seja, $sen(\\theta(t) \\approx \\theta(t)$, então a equação do pêndulo se reduz a\n",
    "\n",
    "$$\n",
    "l\\frac{d^2\\theta(t)}{dt^2} = -g\\theta(t).\n",
    "$$\n",
    "\n",
    "e a solução geral $\\theta(t) = \\cos\\left(\\sqrt{\\frac{g}{l}}t\\right)$ pode ser obtida. Para um ângulo inicial $\\theta_0$, partindo do repouso no instante $t=0$, obtém-se a solução particular \n",
    "\n",
    "$$\\theta(t) = \\theta_0\\cos\\left(\\sqrt{\\frac{g}{l}}t\\right)$$\n",
    "\n",
    "Para verificar, basta calcular as derivadas de 1ª e 2ª ordens e substituir na equação.\n",
    "\n",
    "Infelizmente, não existe uma solução explícita para a equação do pêndulo com grandes ângulos que seja tão simples algebricamente. Uma vez que este sistema é muito mais simples do que a maioria dos sistemas práticos de engenharia e não tem solução analítica óbvia, a necessidade de soluções numéricas para EDOs é clara.\n",
    "\n",
    "As equações diferenciais são bastante comuns em engenharia, física e matemática, portanto seu estudo é um campo vasto e rico. Este capítulo cobre equações diferenciais ordinárias com valores iniciais especificados, uma subclasse de problemas de equações diferenciais chamados problemas de valor inicial. Para esses casos, o Python possui um conjunto completo de funções para resolver esse tipo de problema. Neste capítulo vamos estudar equações diferenciais ordinárias e alguns métodos de resolução com Python.\n",
    "\n",
    "\n"
   ]
  },
  {
   "cell_type": "markdown",
   "metadata": {},
   "source": [
    "## 1.2 O que são EDOs?\n",
    "\n",
    "Uma equação diferencial ordinária (EDO) é uma equação que relaciona uma função de uma variável, $y(x)$ e suas derivadas, sendo $x$ a variável independente e $y(x)$ a função incógnita.\n",
    "\n",
    "A ordem de uma equação diferencial é determinada pela mais alta ordem da derivada da função $y(x)$ presente na equação. As equações a seguir são exemplos de equações diferenciais ordinárias. Temos as seguintes notações usuais:\n",
    "\n",
    "$$y'= \\frac{dy}{dx}, \\,\\,\\,  y''= \\frac{d^2y}{dx^2}, \\,\\,\\,... $$\n",
    "\n",
    "Por exemplo:\n",
    "\n",
    "$ \\frac{dy}{dx} = 3x-1$ é uma EDO de ordem 1\n",
    "\n",
    "$ y' = -xy$ é uma EDO de ordem 1\n",
    "\n",
    "$ \\frac{d^2y}{dx^2} = x^2-y+e^x$ é uma EDO de ordem 2 \n",
    "\n",
    "$ y'' -4y' + 3y = x$ é uma EDO de ordem 2 \n",
    "\n",
    "$ \\frac{d^5y}{dx^5} + 3x\\frac{dy}{dx}=2$ é uma EDO de ordem 5 \n",
    "\n",
    "Resolver uma equação diferencial consiste em determinar uma função 𝑦(𝑥) que satisfaça a equação.\n",
    "\n",
    "A seguir vamos ver alguns exemplos usando a biblioteca SymPy para computar algumas expressões. Para isso preciamos importar a biblioteca executando as duas linhas de código mostradas abaixo."
   ]
  },
  {
   "cell_type": "code",
   "execution_count": 1,
   "metadata": {},
   "outputs": [],
   "source": [
    "import sympy as sym\n",
    "sym.init_printing()"
   ]
  },
  {
   "cell_type": "markdown",
   "metadata": {},
   "source": [
    "**Exemplo 1.1:** Vamos verificar se $\\theta(t) = \\cos\\left(\\sqrt{\\frac{g}{l}}t\\right)$ é solução da equação do pêndulo \n",
    "\n",
    "$$\n",
    "l\\frac{d^2\\theta(t)}{dt^2} = -g\\theta(t)\n",
    "$$\n",
    "\n"
   ]
  },
  {
   "cell_type": "code",
   "execution_count": 2,
   "metadata": {},
   "outputs": [],
   "source": [
    "t,g,l = sym.symbols('t,g,l')     #variáveis simbólicas\n",
    "theta = sym.Function('theta')(t) #função simbolica\n",
    "theta_func = sym.cos(sym.sqrt(g/l)*t) #função"
   ]
  },
  {
   "cell_type": "code",
   "execution_count": 3,
   "metadata": {},
   "outputs": [
    {
     "data": {
      "text/latex": [
       "$\\displaystyle \\frac{d}{d t} \\theta{\\left(t \\right)} = - \\sqrt{\\frac{g}{l}} \\sin{\\left(t \\sqrt{\\frac{g}{l}} \\right)}$"
      ],
      "text/plain": [
       "                ___    ⎛      ___⎞\n",
       "d              ╱ g     ⎜     ╱ g ⎟\n",
       "──(θ(t)) = -  ╱  ─ ⋅sin⎜t⋅  ╱  ─ ⎟\n",
       "dt          ╲╱   l     ⎝  ╲╱   l ⎠"
      ]
     },
     "execution_count": 3,
     "metadata": {},
     "output_type": "execute_result"
    }
   ],
   "source": [
    "# theta_func.diff(t) -> derivada primeira\n",
    "expr = sym.Eq(theta.diff(t), theta_func.diff(t))\n",
    "expr"
   ]
  },
  {
   "cell_type": "code",
   "execution_count": 4,
   "metadata": {},
   "outputs": [
    {
     "data": {
      "text/latex": [
       "$\\displaystyle \\frac{d^{2}}{d t^{2}} \\theta{\\left(t \\right)} = - \\frac{g \\cos{\\left(t \\sqrt{\\frac{g}{l}} \\right)}}{l}$"
      ],
      "text/plain": [
       "                  ⎛      ___⎞ \n",
       "                  ⎜     ╱ g ⎟ \n",
       "  2         -g⋅cos⎜t⋅  ╱  ─ ⎟ \n",
       " d                ⎝  ╲╱   l ⎠ \n",
       "───(θ(t)) = ──────────────────\n",
       "  2                 l         \n",
       "dt                            "
      ]
     },
     "execution_count": 4,
     "metadata": {},
     "output_type": "execute_result"
    }
   ],
   "source": [
    "# theta_func.diff(t.t) -> derivada segunda\n",
    "expr2 = sym.Eq(theta.diff(t,t), theta_func.diff(t,t))\n",
    "expr2 "
   ]
  },
  {
   "cell_type": "markdown",
   "metadata": {},
   "source": [
    "Assim, temos\n",
    "\n",
    "$$\\frac{d\\theta(t)}{dt} = -\\sqrt{\\frac{g}{l} }\\sin\\left(\\sqrt{\\frac{g}{l}}t\\right)$$ \n",
    "\n",
    "e  \n",
    "\n",
    "$$\\frac{d^2\\theta(t)}{dt^2} = -\\frac{g}{l}\\cos\\left(\\sqrt{\\frac{g}{l}}t\\right)$$\n",
    "\n",
    "Substituindo é possível verificar que a equação é satisfeita."
   ]
  },
  {
   "cell_type": "markdown",
   "metadata": {},
   "source": [
    "**Exemplo 1.2:** A equação diferencial $y' = -x y$ tem solução $ y = c \\, e^{\\frac{-x^2}{2}}$ com $c$ constante, pois \n",
    "\n",
    "$$ y' = c \\, e^{\\frac{-x^2}{2}}(-x) = -xy$$\n",
    "\n",
    "ou seja, a função $y(x)$ satisfaz a equação. Veja um exemplo de como obter a solução com `sympy`.\n",
    " "
   ]
  },
  {
   "cell_type": "code",
   "execution_count": 9,
   "metadata": {},
   "outputs": [
    {
     "data": {
      "text/latex": [
       "$\\displaystyle y{\\left(x \\right)} = C_{1} e^{- \\frac{x^{2}}{2}}$"
      ],
      "text/plain": [
       "             2 \n",
       "           -x  \n",
       "           ────\n",
       "            2  \n",
       "y(x) = C₁⋅ℯ    "
      ]
     },
     "execution_count": 9,
     "metadata": {},
     "output_type": "execute_result"
    }
   ],
   "source": [
    "# Define os simbolos e funções\n",
    "x = sym.symbols('x')\n",
    "y = sym.Function('y')\n",
    "dy = sym.Derivative(y(x),x)\n",
    "\n",
    "# Define a equação e resolve\n",
    "eq = sym.Eq(dy, -x*y(x))\n",
    "sym.dsolve(eq)"
   ]
  },
  {
   "cell_type": "markdown",
   "metadata": {},
   "source": [
    "Podemos observar que esta equação apresenta infinitas soluções, pois, para cada valor diferente de $C_1$ temos uma solução diferente. \n",
    "\n",
    "Para visualizar o gráfico de diferentes soluções, fazendo variar a constante $C_1$, vamos usar os códigos mostrados a seguir. Primeiramente importamos as biblioteca NumPy e Matplotlib com as duas linhas de códigos mostrdas a seguir."
   ]
  },
  {
   "cell_type": "code",
   "execution_count": 11,
   "metadata": {},
   "outputs": [],
   "source": [
    "import numpy as np\n",
    "import matplotlib.pyplot as plt"
   ]
  },
  {
   "cell_type": "markdown",
   "metadata": {},
   "source": [
    "Uma vez que essas duas bibliotecas foram importadas não precisamos importar novamente para usar."
   ]
  },
  {
   "cell_type": "code",
   "execution_count": 16,
   "metadata": {},
   "outputs": [
    {
     "data": {
      "image/png": "[encoded data removed]",
      "text/plain": [
       "<Figure size 432x288 with 1 Axes>"
      ]
     },
     "metadata": {
      "needs_background": "light"
     },
     "output_type": "display_data"
    }
   ],
   "source": [
    "# Definindo uma função usando a sentaxe \"lambda\" \n",
    "y = lambda x: np.exp((-x**2)/2) \n",
    "# Definindo um intervalo de X para o plot\n",
    "X = np.linspace(-3,3)\n",
    "\n",
    "# Plotando para diversos valores se C1: 1, 1.5, 2, 2.5, ...\n",
    "plt.plot(X,1*y(X),     \n",
    "         X,1.5*y(X), \n",
    "         X,2*y(X), \n",
    "         X,2.5*y(X), \n",
    "         X,3*y(X), \n",
    "         X,0.5*y(X),\n",
    "         X,0.2*y(X))\n",
    "plt.grid()\n",
    "plt.show()"
   ]
  },
  {
   "cell_type": "markdown",
   "metadata": {},
   "source": [
    "**Exemplo 11.3:** A equação diferencial $\\frac{du}{dt} = t + 2$ tem solução obtida facilmente integrando ambos os lados da equação fazendo\n",
    "\n",
    "$$ \\int \\frac{du}{dt}  = \\int (t+2)dt $$\n",
    "\n",
    "$$ u(t) = \\frac{t^2}{2}+2t+k$$\n",
    "\n",
    "em que $k$ é a constante de integração. Nesse caso a família de soluções, para $k=\\{-1,0,1,5,10,15, 20\\}$ pode ser visualizada como é mostrado abaixo.a"
   ]
  },
  {
   "cell_type": "code",
   "execution_count": 17,
   "metadata": {},
   "outputs": [
    {
     "data": {
      "image/png": "[encoded data removed]",
      "text/plain": [
       "<Figure size 432x288 with 1 Axes>"
      ]
     },
     "metadata": {
      "needs_background": "light"
     },
     "output_type": "display_data"
    }
   ],
   "source": [
    "# Modificano o código anterior para esse novo exemplo\n",
    "u = lambda t: (t**2/2)+2*t\n",
    "t = np.linspace(-5,3)\n",
    "plt.plot(t,u(t)-1, \n",
    "         t,u(t)-0, \n",
    "         t,u(t)+1,\n",
    "         t,u(t)+5, \n",
    "         t,u(t)+10,\n",
    "         t,u(t)+15,\n",
    "         t,u(t)+20,)\n",
    "plt.grid()\n",
    "plt.show()"
   ]
  },
  {
   "cell_type": "markdown",
   "metadata": {},
   "source": [
    "Se impomos uma condição, como por exemplo $u(0)= 8$, obtemos o valor $k=8$, que restringe a solução a uma única curva e não mais à uma família de curvas. Uma equação diferencial com condições iniciais como essa compõem o que chamamos de um *problema de valor inicial* (PVI).\n",
    "\n",
    "Ou seja, o problema de valor inicial descrito acima pode ser enunciado como\n",
    "\n",
    "$$ \n",
    "\\begin{cases} \n",
    "\\frac {du}{dt}= t+2\\\\ \n",
    "\\\\\n",
    "u(0)=8\n",
    "\\end{cases}$$"
   ]
  },
  {
   "cell_type": "markdown",
   "metadata": {},
   "source": [
    "Usando a biblioteca `scipy` podemos obter uma solução numérica para um problema como esse usando a função `solve_ivp`, como é mostrado no código abaixo. Para isso, vamos primeiramente importar a função do módulo `integrate` usando a linha mostrada a seguir."
   ]
  },
  {
   "cell_type": "code",
   "execution_count": 44,
   "metadata": {},
   "outputs": [],
   "source": [
    "from scipy.integrate import solve_ivp"
   ]
  },
  {
   "cell_type": "markdown",
   "metadata": {},
   "source": [
    "Agora o código para solucionar o PVI."
   ]
  },
  {
   "cell_type": "code",
   "execution_count": 45,
   "metadata": {},
   "outputs": [
    {
     "data": {
      "text/plain": [
       "array([[ 8.    ,  8.5609,  9.1911,  9.8906, 10.6593, 11.4972, 12.4044,\n",
       "        13.3809, 14.4266, 15.5416, 16.7258, 17.9792, 19.3019, 20.6939,\n",
       "        22.1551, 23.6856, 25.2853, 26.9543, 28.6925, 30.5   ]])"
      ]
     },
     "execution_count": 45,
     "metadata": {},
     "output_type": "execute_result"
    }
   ],
   "source": [
    "# Definindo a função usando 'def'\n",
    "def du(t, u): \n",
    "    return t+2  \n",
    "\n",
    "# Dados do problema\n",
    "t0 = 0.0\n",
    "tf = 5.0\n",
    "u0 = [8]\n",
    "# Discretização do intervalo em 20 pontos\n",
    "ti = np.linspace(t0,tf,20)\n",
    "\n",
    "# Obtendo a solução\n",
    "sol = solve_ivp(du, (t0,tf), u0, t_eval=ti)\n",
    "np.round(sol.y,4) "
   ]
  },
  {
   "cell_type": "code",
   "execution_count": 46,
   "metadata": {
    "scrolled": true
   },
   "outputs": [
    {
     "data": {
      "image/png": "[encoded data removed]",
      "text/plain": [
       "<Figure size 432x288 with 1 Axes>"
      ]
     },
     "metadata": {
      "needs_background": "light"
     },
     "output_type": "display_data"
    }
   ],
   "source": [
    "# Plotando a solução numérica e analítica\n",
    "plt.plot(ti, sol.y[0],'r+-', ti, u(ti)+u0[0])\n",
    "plt.grid()\n",
    "plt.show()"
   ]
  },
  {
   "cell_type": "markdown",
   "metadata": {},
   "source": [
    "O método usado por padrão na função `solve_ivp` é o `RK45`, ou seja,  o método Runge-Kutta explícito de ordem 5(4). O erro é controlado assumindo a precisão do método de quarta ordem, mas os passos são executadas usando a fórmula precisa de quinta ordem. Mais informações sobre outros métodos disponíveis e sua descrição podem ser acessadas em: https://docs.scipy.org/doc/scipy/reference/generated/scipy.integrate.solve_ivp.html"
   ]
  },
  {
   "cell_type": "markdown",
   "metadata": {},
   "source": [
    "E existência e unicidade da solução de um PVI é garantida, sob certas condições, pelos teoremas *Condição de Lipschits*, *Pincard-Lindelof* e *Dependência contínua na condição inicial* enunciados e demonstrados em Medeiros e Oliveira (2020, p.24) http://www.mat.ufpb.br/milton/disciplinas/edo/livro_edo.pdf)"
   ]
  },
  {
   "cell_type": "markdown",
   "metadata": {},
   "source": [
    "## 1.3 Métodos para EDOs lineares de 1ª ordem \n",
    "\n",
    "Alguns métodos analíticos para resolução de EDOs são os métodos usando fator integrante, método das variáveis separáveis e método para equações exatas.\n",
    "\n",
    "Para utilizar o método do **fator integrante**, a EDO deve se apresentar da seguinte forma:\n",
    "$$y'+p(t)y=g(t)$$\n",
    "\n",
    "O método consiste em multiplicar ambos os lados da equação por $\\mu(t)=e^{\\int p(t)dt}$ e integrar, então chega-se à solução geral\n",
    "$$y(t)=\\frac{\\int \\mu(t)g(t)dt+c}{\\mu(t)}.$$\n",
    "\n",
    "Uma solução particular pode ser obtida calculando o valor da constante $c$ a partir de um valor inicial $y(t_0)=y_0$ dado."
   ]
  },
  {
   "cell_type": "markdown",
   "metadata": {},
   "source": [
    "**Exemplo 1.4:** Dada a equação $y'-y=2te^{2t}$, encontre a solução particular sabendo que $y(0)=1$. \n",
    "\n",
    "_Solução:_ Multiplicando ambos os lados da equação por $\\mu(t)=e^{\\int -1 dt}= e^{-t}$ obtém-se\n",
    "\n",
    "$$y'e^{-t}-ye^{-t}=2te^{2t}e^{-t}$$\n",
    "ou\n",
    "\n",
    "$$\\frac{d}{dt}\\left[ye^{-t} \\right]=2te^t$$\n",
    "\n",
    "Integrando ambos os lados obtemos $ye^{-t}=\\int 2te^t dt$ que, integrando por partes, resulta em \n",
    "\n",
    "$$y = 2te^{2t}-2e^{2t}+c$$\n",
    "\n",
    "Como $y(0)=1$, então $c=3$. Logo a solução particular é \n",
    "\n",
    "$$y = 2te^{2t}-2e^{2t}+3$$"
   ]
  },
  {
   "cell_type": "markdown",
   "metadata": {},
   "source": [
    "Comferindo com SymPy:"
   ]
  },
  {
   "cell_type": "code",
   "execution_count": 47,
   "metadata": {},
   "outputs": [
    {
     "data": {
      "text/latex": [
       "$\\displaystyle y{\\left(t \\right)} = \\left(C_{1} + 2 \\left(t - 1\\right) e^{t}\\right) e^{t}$"
      ],
      "text/plain": [
       "       ⎛                t⎞  t\n",
       "y(t) = ⎝C₁ + 2⋅(t - 1)⋅ℯ ⎠⋅ℯ "
      ]
     },
     "execution_count": 47,
     "metadata": {},
     "output_type": "execute_result"
    }
   ],
   "source": [
    "# Define os simbolos e funções\n",
    "t = sym.symbols('t')\n",
    "y = sym.Function('y')\n",
    "dy = sym.Derivative(y(t),t)\n",
    "\n",
    "# Define a equação e resolve\n",
    "eq = sym.Eq(dy-y(t), 2*t*sym.exp(2*t))\n",
    "sym.dsolve(eq)"
   ]
  },
  {
   "cell_type": "markdown",
   "metadata": {},
   "source": [
    "Plotando essa função no intervalo de 0 a 1:"
   ]
  },
  {
   "cell_type": "code",
   "execution_count": 48,
   "metadata": {
    "scrolled": true
   },
   "outputs": [
    {
     "data": {
      "image/png": "[encoded data removed]",
      "text/plain": [
       "<Figure size 432x288 with 1 Axes>"
      ]
     },
     "metadata": {
      "needs_background": "light"
     },
     "output_type": "display_data"
    }
   ],
   "source": [
    "t = np.linspace(0,1)\n",
    "y = 2*t*np.exp(2*t) - 2*np.exp(2*t)+3\n",
    "plt.plot(t,y,'b')\n",
    "plt.grid()\n",
    "plt.show()"
   ]
  },
  {
   "cell_type": "markdown",
   "metadata": {},
   "source": [
    "**Exemplo 1.5:** Resolvendo a equação $y' + y = \\cos(t)$ usando o fator integrante obtém-se $y(t) = c e^{-t} + \\frac{\\cos(t) + \\sin(t)}{2}$ em que $c$ é determinada pela condição inicial $y(0) = c+1/2$. Vamos plotar as soluções de $y(t)$ no intervalo $0 \\leq t \\leq 10$ para os valores iniciais $y(0)=-3,-2,-1,0,1,2,3$."
   ]
  },
  {
   "cell_type": "code",
   "execution_count": 49,
   "metadata": {
    "scrolled": false
   },
   "outputs": [
    {
     "data": {
      "image/png": "[encoded data removed]",
      "text/plain": [
       "<Figure size 432x288 with 1 Axes>"
      ]
     },
     "metadata": {
      "needs_background": "light"
     },
     "output_type": "display_data"
    }
   ],
   "source": [
    "t = np.linspace(0,10,100)\n",
    "for y0 in range(-3,4):\n",
    "    c = y0 - 1/2\n",
    "    y = c*np.exp(-t) + (np.cos(t) + np.sin(t))/2\n",
    "    plt.plot(t,y,'b', lw = 0.5)\n",
    "plt.title(\"$y' + y = \\cos(t)$\"), plt.grid(True)\n",
    "plt.show()"
   ]
  },
  {
   "cell_type": "markdown",
   "metadata": {},
   "source": [
    "Nos exemplos acima, conseguimos encontrar a solução geral da equação diferencial de primeira ordem e plotar a solução para diferentes valores iniciais. No entanto, a maioria das equações diferenciais não pode ser resolvida explicitamente com funções elementares. Para esses casos sempre podemos aproximar soluções com métodos numéricos e métodos gráficos."
   ]
  },
  {
   "cell_type": "code",
   "execution_count": 50,
   "metadata": {
    "scrolled": true
   },
   "outputs": [
    {
     "data": {
      "image/png": "[encoded data removed]",
      "text/plain": [
       "<Figure size 432x288 with 1 Axes>"
      ]
     },
     "metadata": {
      "needs_background": "light"
     },
     "output_type": "display_data"
    }
   ],
   "source": [
    "t = np.linspace(-2,4, 20)\n",
    "y = np.linspace(-3, 3, 18)\n",
    "\n",
    "tm, ym = np.meshgrid(t, y)\n",
    "\n",
    "dy = np.cos(tm)-ym\n",
    "dt = np.ones(dy.shape)\n",
    "\n",
    "plt.title(\"Campo de direções para $y' + y = \\cos(t)$\")\n",
    "plt.quiver(tm,ym,dt,dy,width=0.0025)\n",
    "plt.show()"
   ]
  },
  {
   "cell_type": "code",
   "execution_count": null,
   "metadata": {},
   "outputs": [],
   "source": []
  },
  {
   "cell_type": "markdown",
   "metadata": {},
   "source": [
    "**Exercícios:**\n",
    "\n",
    "(a) $y'+xy=x$\n",
    "\n",
    "(b) $y'+6y=e^x$\n",
    "\n",
    "(c) $y'+3x^2y=sen(x)e^{-x^3}$\n"
   ]
  },
  {
   "cell_type": "markdown",
   "metadata": {},
   "source": [
    "Dizemos que uma EDO de 1ª ordem é de **variáveis separáveis** se puder ser escrita na forma\n",
    "\n",
    "$$ y' = f(t) g(y)$$\n",
    "\n",
    "nesse caso, escrevemos \n",
    "\n",
    "$$\\frac{dy}{dt} = f(t) g(y)$$\n",
    "\n",
    "ou \n",
    "\n",
    "$$\\frac{1}{g(y)}dy = f(t)dt $$\n",
    "\n",
    "e integramos o lado esquerdo em relação à $y$ e o lado direito em relação à $t$ para obter a solução, ou seja, fazemos\n",
    "\n",
    "$$\\int \\frac{1}{g(y)}\\,dy = \\int f(x) \\,dx + c $$\n",
    "\n",
    "Vejamos um exemplo:"
   ]
  },
  {
   "cell_type": "markdown",
   "metadata": {},
   "source": [
    "**Exemplo 1.6:** Seja a equação $y'=xy$, tem-se que $y=0$ é uma solução, para encontrar uma expressão para a solução geral, com $y \\neq 0$ podemos usar o método de separação de variáveis fazendo\n",
    "\n",
    "$$\\int \\frac{dy}{y} = \\int x\\,dx$$\n",
    "\n",
    "$$\\ln \\, \\lvert y\\rvert = \\frac{x^2}{2} + C$$\n",
    "\n",
    "$$ \\lvert y \\rvert = e^{\\frac{x^2}{2} + C} = e^{\\frac{x^2}{2}} e^C = D e^{\\frac{x^2}{2}}$$\n",
    "\n",
    "Assim, para uma constante $D > 0$ a solução é\n",
    "$$y = D e^{\\frac{x^2}{2}}$$"
   ]
  },
  {
   "cell_type": "markdown",
   "metadata": {},
   "source": [
    "Podemos usar `sympy` para onter as integrais"
   ]
  },
  {
   "cell_type": "code",
   "execution_count": 51,
   "metadata": {},
   "outputs": [
    {
     "data": {
      "text/latex": [
       "$\\displaystyle \\log{\\left(y \\right)}$"
      ],
      "text/plain": [
       "log(y)"
      ]
     },
     "execution_count": 51,
     "metadata": {},
     "output_type": "execute_result"
    }
   ],
   "source": [
    "from sympy import *\n",
    "init_printing(use_unicode=True)\n",
    "\n",
    "x,y = symbols('x,y')\n",
    "integrate(1/y, y)"
   ]
  },
  {
   "cell_type": "code",
   "execution_count": 52,
   "metadata": {
    "scrolled": true
   },
   "outputs": [
    {
     "data": {
      "text/latex": [
       "$\\displaystyle \\frac{x^{2}}{2}$"
      ],
      "text/plain": [
       " 2\n",
       "x \n",
       "──\n",
       "2 "
      ]
     },
     "execution_count": 52,
     "metadata": {},
     "output_type": "execute_result"
    }
   ],
   "source": [
    "integrate(x, x)"
   ]
  },
  {
   "cell_type": "markdown",
   "metadata": {},
   "source": [
    "**Exemplo 1.6:** Vamos agora resolver $x^2y' = 1 - x^2+y^2 - x^2y^2$ com  $y(1) = 0$ fatorando o lado direito e separando as variáveis.\n",
    "\n",
    "$$x^2y' = (1 - x^2)(1+y^2)$$\n",
    "\n",
    "$$\\frac{y'}{1+y^2} = \\frac{1 - x^2}{x^2} $$\n",
    "\n",
    "$$\\frac{y'}{1+y^2}  = \\frac{1}{x^2} - 1 $$\n",
    "\n",
    "$$\\arctan (y)  = \\frac{-1}{x} - x + C $$\n",
    "\n",
    "$$y = \\tan \\left(\\frac{-1}{x} - x + C\\right)$$\n",
    "\n",
    "Aplicando a condição inicial chegamos a \n",
    "\n",
    "$$y = \\tan \\left(\\frac{-1}{x} - x + 2 \\right)$$"
   ]
  },
  {
   "cell_type": "markdown",
   "metadata": {},
   "source": [
    "Usando `sympy` para obter as integrais:"
   ]
  },
  {
   "cell_type": "code",
   "execution_count": 37,
   "metadata": {},
   "outputs": [
    {
     "data": {
      "text/latex": [
       "$\\displaystyle \\operatorname{atan}{\\left(y \\right)}$"
      ],
      "text/plain": [
       "atan(y)"
      ]
     },
     "execution_count": 37,
     "metadata": {},
     "output_type": "execute_result"
    }
   ],
   "source": [
    "integrate(1/(1+y**2), y)"
   ]
  },
  {
   "cell_type": "code",
   "execution_count": 38,
   "metadata": {},
   "outputs": [
    {
     "data": {
      "text/latex": [
       "$\\displaystyle - x - \\frac{1}{x}$"
      ],
      "text/plain": [
       "     1\n",
       "-x - ─\n",
       "     x"
      ]
     },
     "execution_count": 38,
     "metadata": {},
     "output_type": "execute_result"
    }
   ],
   "source": [
    "integrate(1/(x**2) -1, x)"
   ]
  },
  {
   "cell_type": "markdown",
   "metadata": {},
   "source": [
    "**Exercícios:** (ver mais em Boyce, 2020, p 26)\n",
    "\n",
    "(a) $y'=\\frac{x^2}{y}$ \n",
    "\n",
    "(b) $y'+y^2sen(x)=0$\n",
    "\n",
    "(c) $y'=cos^2(x)cos^2(2y)$\n",
    "\n",
    "(d) $xy'=(1-y^2)^{1/2}$\n"
   ]
  },
  {
   "cell_type": "markdown",
   "metadata": {},
   "source": [
    "As equações **diferenciais exatas** são aquelas que podem ser colocadas na forma\n",
    "\n",
    "$$M(x,y)+N(x,y)y'=0$$\n",
    "\n",
    "em que  $M_y(x,y) = N_x(x,y)$. o que significa que existe uma função $\\psi (x, y)$ tal que $\\psi_x=M$ e $\\psi_y=N$.\n",
    "\n",
    "\n"
   ]
  },
  {
   "cell_type": "markdown",
   "metadata": {},
   "source": [
    "Suponha que possamos identificar uma função $\\psi (x, y)$ tal que $\\psi_x=M$ e $\\psi_y=N$ e a função $y(x)$, diferenciável em $x$, é definida implicitamente por $\\psi(x,y)=c$, então podemos escrever \n",
    "\n",
    "$$M(x,y)+N(x,y)y'= \\frac{\\partial \\psi}{\\partial y}+\\frac{\\partial \\psi}{\\partial y}\\frac{dy}{dx}=\\frac{d}{dx} \\psi(x,y(x))$$\n",
    "\n",
    "Então a equação diferencial a ser resolvida fica\n",
    "\n",
    "$$\\frac{d}{dx} \\psi(x,y(x)) = 0$$\n",
    "\n",
    "\n",
    "É possível obter uma expressão explícita para $\\psi (x, y)$ integrando $\\psi_x=M$  em relação a $x$, incluindo uma função arbitrária $h(y)$ em vez de uma constante arbitrária, depois diferenciaando o resultado em relação a $y$ e igualeando $N$. Então, usando esta última equação para resolver para $h(y)$. O próximo exemplo ilustra esse procedimento.\n",
    "\n"
   ]
  },
  {
   "cell_type": "markdown",
   "metadata": {},
   "source": [
    "Vejamos um exemplo.\n",
    "\n",
    "**Exemplo 1.7:** Vamos resolver a equação \n",
    "\n",
    "$$2x+y^2+2xyy'=0 \\text.$$\n",
    "\n",
    "Primeiramente notemos que para $\\psi(x,y)=x^2+xy^2$ tmos que $\\psi_x = 2x+y^2$ e $\\psi_y=2xy$, então, a equação pode ser escrita como \n",
    "\n",
    "$$ \\frac{\\partial \\psi}{\\partial y}+\\frac{\\partial \\psi}{\\partial y}\\frac{dy}{dx}=0$$\n",
    "\n",
    "considerando que $y$ é função de $x$ e usando a regra da cadeia podemos escrever\n",
    "\n",
    "$$ \\frac{\\partial \\psi}{\\partial x}(x,y)=\\frac{d}{dx}(x^2+xy^2)=0$$\n",
    "\n",
    "que integrando obtem-se a solução geral\n",
    "\n",
    "$$ \\psi(x,y)=x^2+xy^2=c \\text.$$\n",
    "\n",
    "ou\n",
    "\n",
    "$$ y(x) = \\pm \\sqrt{\\frac{c}{x}-x}$$\n"
   ]
  },
  {
   "cell_type": "code",
   "execution_count": 41,
   "metadata": {},
   "outputs": [
    {
     "data": {
      "text/latex": [
       "$\\displaystyle 2 x y{\\left(x \\right)} \\frac{d}{d x} y{\\left(x \\right)} + 2 x + y^{2}{\\left(x \\right)} = 0$"
      ],
      "text/plain": [
       "         d                 2       \n",
       "2⋅x⋅y(x)⋅──(y(x)) + 2⋅x + y (x) = 0\n",
       "         dx                        "
      ]
     },
     "execution_count": 41,
     "metadata": {},
     "output_type": "execute_result"
    }
   ],
   "source": [
    "import sympy as sym\n",
    "sym.init_printing(use_unicode=True)\n",
    "\n",
    "t, l, x = sym.symbols('t lambda x')\n",
    "y = sym.Function('y')(x)\n",
    "\n",
    "expr = sym.Eq(2*x+y*y+2*x*y*y.diff(x),0)\n",
    "expr"
   ]
  },
  {
   "cell_type": "code",
   "execution_count": 42,
   "metadata": {},
   "outputs": [
    {
     "data": {
      "text/latex": [
       "$\\displaystyle \\left[ y{\\left(x \\right)} = - \\sqrt{\\frac{C_{1}}{x} - x}, \\  y{\\left(x \\right)} = \\sqrt{\\frac{C_{1}}{x} - x}\\right]$"
      ],
      "text/plain": [
       "⎡            ________             ________⎤\n",
       "⎢           ╱ C₁                 ╱ C₁     ⎥\n",
       "⎢y(x) = -  ╱  ── - x , y(x) =   ╱  ── - x ⎥\n",
       "⎣        ╲╱   x               ╲╱   x      ⎦"
      ]
     },
     "execution_count": 42,
     "metadata": {},
     "output_type": "execute_result"
    }
   ],
   "source": [
    "sym.dsolve(expr)"
   ]
  },
  {
   "cell_type": "markdown",
   "metadata": {},
   "source": [
    "**Exercícios:**\n",
    "Para resolver uma simples equação diferencial de 1ª ordem, como por exemplo $y'+y=0$, $y=y(t)$, podemos proceder da seguinte maneira:\n"
   ]
  },
  {
   "cell_type": "code",
   "execution_count": 43,
   "metadata": {},
   "outputs": [
    {
     "data": {
      "text/latex": [
       "$\\displaystyle y{\\left(t \\right)} = C_{1} e^{- t}$"
      ],
      "text/plain": [
       "           -t\n",
       "y(t) = C₁⋅ℯ  "
      ]
     },
     "execution_count": 43,
     "metadata": {},
     "output_type": "execute_result"
    }
   ],
   "source": [
    "# definindo a variavel independente como símbolo\n",
    "t = sym.symbols('t')\n",
    "\n",
    "# definido uma função com classe Functiol\n",
    "y = sym.Function('y')(t)\n",
    "\n",
    "# definindo a equação em que y'=\n",
    "eq = y.diff(t)+y\n",
    "\n",
    "# resolvendo a equacao\n",
    "sym.dsolve(eq, y)"
   ]
  },
  {
   "cell_type": "markdown",
   "metadata": {},
   "source": [
    "Algumas vezes, é possível converter uma equação diferencial que não é exata em uma exata multiplicando-se a equação por um **fator integrante** apropriado. \n",
    "\n",
    "Por exemplo, se $(M_y – N_x)/N$ for uma função só de $x$, então existirá um fator integrante $\\mu$ que também só depende de $x$. Além disso, $\\mu(x)$ pode ser encontrado resolvendo-se a equação linear e separável\n",
    "\n",
    "$$\\frac{d\\mu}{dx} = \\frac{M_y-N_x}{N}\\mu $$\n",
    "\n",
    "Um procedimento semelhante pode ser usado para determinar uma condição sob a qual a equação diferencial tenha um fator integrante que depende só de $y$."
   ]
  },
  {
   "cell_type": "markdown",
   "metadata": {},
   "source": [
    "**Ver exemplos p.51 e 52 do Boyce**"
   ]
  },
  {
   "cell_type": "markdown",
   "metadata": {},
   "source": [
    "Use os passos acima para resolver as sequintes equações e teste a solução obtida.\n",
    "\n",
    "(a) $y'=\\frac{x^2}{y}$ \n",
    "\n",
    "(b) $y'+y^2sen(x)=0$\n",
    "\n",
    "(c) $y'=cos^2(x)cos^2(2y)$\n",
    "\n",
    "(d) $xy'=(1-y^2)^{1/2}$\n",
    "\n",
    "(e) $y'+xy=x$\n",
    "\n",
    "(f) $y'+6y=e^x$\n",
    "\n",
    "(g) $y'+3x^2y=sen(x)e^{-x^3}$"
   ]
  },
  {
   "cell_type": "markdown",
   "metadata": {},
   "source": [
    "## 1.4  Solução numérica de problema de valor Inicial (PVI)\n",
    "\n",
    "Considere a equação diferencial ordinária, $y' = y$, cuja solução é dada por $y(x)=ce^x$ $c\\in R$.\n",
    "\n",
    "Assim, a equação diferencial dada apresenta infinitas soluções, uma vez que, para cada valor escolhido para a constante $c$, temos uma solução, como, por exemplo, $y(x)=c_0e^x$,$y(x)=c_1e^x$,$y(x)=c_2e^x$,sendo $c_0$, $c_1$ , $c_2$ valores fixados,conforme exibido na figura abaixo.\n"
   ]
  },
  {
   "cell_type": "markdown",
   "metadata": {},
   "source": [
    "<img src=\"https://github.com/tiagoburiol/NUMETHODS/raw/master/8_SOLUCAO_NUMERICA_DE_EDOs/imagens/pvi01.png\" width=\"560\">"
   ]
  },
  {
   "cell_type": "markdown",
   "metadata": {},
   "source": [
    "Se considerarmos que conhecemos o valor da função $y(x)$ em um ponto, isto é, $x = x_0$ , o valor de $y(x)$ é $y(x_0) = y_0$ e temos uma única solução para a equação proposta. Esta solução única é obtida quando usamos a solução geral da equação diferencial\n",
    "no ponto $x = x_0$ e obtemos o valor da constante $c$, como segue: $$y(x_0)=y_0$$ \n",
    "então \n",
    "$$ce^{x_0} = y_0$$ \n",
    "logo \n",
    "$$c=y_0e^{0-x_0}$$\n",
    "\n",
    "Assim, a solução única para a equação diferencial é dada por: \n",
    "\n",
    "$$y(x) = ce^x = y_0 e^{-x_0} e^x = y_0e^{(x-x_0)}$$\n",
    "\n",
    "Portanto, $y(x) = y_0 e^{(x-x_0)}$, conforme exibido na figura."
   ]
  },
  {
   "cell_type": "markdown",
   "metadata": {},
   "source": [
    "**Definição:** Um Problema de Valor Inicial (PVI) de primeira ordem consiste de uma equação diferencial $y' = f (x,y)$, $x \\geq x_0$ e uma condição inicial $y(x_0) = y_0$, em que $y_0$ é um valor dado, chamado de valor inicial.\n",
    "\n",
    "Neste caso, podemos escrever o PVI da seguinte forma:\n",
    "\n",
    "$$ \n",
    "\\begin{cases} \n",
    "y'= f(x,y)\\\\ \n",
    "\\\\\n",
    "y(x_0)=y_0\n",
    "\\end{cases}$$\n",
    "\n",
    "Resolver o PVI consiste em determinar uma função $y(x)$ que satisfaça a equação diferencial $y' = f (x,y)$ e a condição inicial $y(x_0) = y_0$.\n",
    "\n",
    "Se a função $f$ e $ \\frac{\\partial f}{\\partial y}$ são contínuas, temos que o PVI apresenta solução única.\n",
    "\n"
   ]
  },
  {
   "cell_type": "markdown",
   "metadata": {},
   "source": [
    "**Discretização:** Resolver numericamente um PVI consiste em calcular aproximações para $y = y(x)$ em pontos discretos $x_0,x_1,x_2,...,x_N$ de um intervalo $[a,b]$.\n",
    "\n",
    "Para discretizar o intervalo $[a,b]$, tomamos $N$ subintervalos $(N \\geq 1)$ e fazemos $x_n = x_0 + nh$, $n = 0,1,2,...,N$ com $x_0 =a$ e $x_N =b$,sendo $h = (x_N −x_0)/N$.\n",
    "\n",
    "A este conjunto de pontos $x_0,x_1,x_2,...,x_N$ denominamos rede ou malha de pontos discretos, e calculamos aproximações para a função $y(x)$ nestes pontos, isto é, determinamos $y_n$ tal que $y_n \\approx y(x_n)$, $n=0,1,...,N$.\n",
    "\n",
    "A partir de um ponto inicial dado $y(x_0) = y_0$ (valor inicial), calculamos passo a passo, nos pontos \n",
    "\n",
    "$x_1 = x_0 +h$, \n",
    "\n",
    "$x_2 = x_0 +2h$, \n",
    "\n",
    "$x_3 = x_0 +3h$\n",
    "\n",
    ",...,\n",
    "\n",
    "$x_n = x_0 +nh$, \n",
    "\n",
    "soluções aproximadas $y_n$ para a solução exata $y(x_n)$, $n=0,1,2,...,N$, conforme ilustrado na figura a seguir.\n",
    "\n",
    "<img src=\"https://github.com/tiagoburiol/NUMETHODS/raw/master/8_SOLUCAO_NUMERICA_DE_EDOs/imagens/discretizacao.png\" width=\"560\">"
   ]
  },
  {
   "cell_type": "markdown",
   "metadata": {},
   "source": [
    "## 1.5 Método de Euler\n",
    "\n",
    "Vamos agora estudar a solução de equações diferenciais ordinárias da forma\n",
    "\n",
    "$$ \\frac{dy}{dx} = f(x,y) $$\n",
    "\n",
    "usando um método numérico de _passo único_ em que obtemos um processo iterativo para obter a solução para cada ponto $y_{i+1}$ a partir de um ponto $y_i$ conhecido. Fazemos isso considerando a derivada no ponto $x_i$ para obter o valor da função no ponto $x_{i+1}$ em que o tamanho de cada _passo_ é dado por $h = x_{i+1} - x_i$. Matemativamente, escrevemos\n",
    "\n",
    "$$ y_{i+1} = y_i + \\phi h$$\n",
    "\n",
    "Assim, a estimativa da inclinação\té usada para extrapolar de um valor antigo $y_i$ para um valor novo $y_{i+1}$ em uma distância $h$. \n",
    "\n",
    "\n",
    "<img src=\"https://github.com/tiagoburiol/NUMETHODS/raw/master/8_SOLUCAO_NUMERICA_DE_EDOs/imagens/euler_fig01.png\" width=\"400\">\n",
    "\n",
    "A inclinação no início do intervalo é tomada como uma aproximação da inclinação média em todo o intervalo, com isso um erro é inserido. Em geral, quanto maior o tamanho do passo, maior é o erro nessa apoximação.\n",
    "\n",
    "<img src=\"https://github.com/tiagoburiol/NUMETHODS/raw/master/8_SOLUCAO_NUMERICA_DE_EDOs/imagens/euler_fig02.png\" width=\"400\">\n",
    "\n",
    "No método de Euler a inclinação é tomada como sendo a derivada primeira da função $f(x,y)$, ou seja, considerando que $\\frac{dy}{dx} = f(x,y)$, escrevemos\n",
    "\n",
    "$$ y_{i+1} = y_i + f(x_i, y_{i}) h$$\n",
    "\n",
    "Assim, a partir de um valor inicial $y_0$ conhecido obtemos estimativas para os valores subsequentes $y_1, y_2, y_3, ...$ da função.\n",
    "\n",
    "Esse método também é chamado de método de _Euler-Cauchy_ ou _ponto-inclinação_."
   ]
  },
  {
   "cell_type": "markdown",
   "metadata": {},
   "source": [
    "**Exemplo 1.8:** Use o método de Euler para integrar numericamente a equação:\n",
    "\n",
    "$$ \\frac{dy}{dx} = -2x^3+12x^2-20x+8.5$$\n",
    "\n",
    "de $x = 0$ a $x = 4$ com um tamanho de passo de $0.5$. A condição inicial em $x = 0$ é $y = 1$. \n",
    "\n",
    "A solução exata é dada por $y = -5.x^4+4x^3-10x^2+8.5x+1$."
   ]
  },
  {
   "cell_type": "markdown",
   "metadata": {},
   "source": [
    "_Solução:_ Com um passo $h=0.5$, temos $x_0 = 0.0$, $x_1 = 0.5$, $x_2 = 1.0$, $x_3 = 1.5$, ..., $x_8=4.0$. Assim, a partir da equação \n",
    "\n",
    "$$ y_{i+1} = y_i + f(x_i, y_{i}) h$$\n",
    "\n",
    "com\n",
    "\n",
    "$$f(x,y)= \\frac{dy}{dx} = -2x^3+12x^2-20x+8.5$$\n",
    "\n",
    "e sabendo que em $x_0 = 0$ temos $y_0 = 1$ obtemos os valores de $y_1, y_2, y_3, ..., y_8$ \n",
    "\n",
    "Vamos fazer isso computacionalmente, em Python."
   ]
  },
  {
   "cell_type": "code",
   "execution_count": 70,
   "metadata": {},
   "outputs": [
    {
     "name": "stdout",
     "output_type": "stream",
     "text": [
      "pontos xi: [0.  0.5 1.  1.5 2.  2.5 3.  3.5 4. ]\n",
      "pontos yi: [1.0, 5.25, 5.875, 5.125, 4.5, 4.75, 5.875, 7.125, 7.0]\n"
     ]
    },
    {
     "data": {
      "image/png": "[encoded data removed]",
      "text/plain": [
       "<Figure size 432x288 with 1 Axes>"
      ]
     },
     "metadata": {
      "needs_background": "light"
     },
     "output_type": "display_data"
    }
   ],
   "source": [
    "import numpy as np\n",
    "import matplotlib.pyplot as plt\n",
    "\n",
    "h = 0.5 #passo\n",
    "x0 = 0.0\n",
    "xn = 4.0\n",
    "\n",
    "# criamos a lista com os pontos xi\n",
    "X = np.arange(x0, xn+h, h) \n",
    "print (\"pontos xi:\", X)\n",
    "\n",
    "# lista com y0, a ser preenchida pelos yi\n",
    "Y = [1.0]                  \n",
    "\n",
    "# entramos com f(x,y)\n",
    "f = lambda x: -2*x**3 + 12*x**2 - 20*x + 8.5\n",
    "\n",
    "# laço para ir calculando os yi e preenchendo a lista\n",
    "for x in X[0:-1]:\n",
    "    Y.append(Y[-1] + f(x)*h ) #Y[-1] é o último yi calculado\n",
    "    \n",
    "# imprime\n",
    "print (\"pontos yi:\", Y)\n",
    "\n",
    "# plota\n",
    "plt.plot(X, Y, \"r-\")\n",
    "plt.grid()\n",
    "plt.show()"
   ]
  },
  {
   "cell_type": "code",
   "execution_count": 71,
   "metadata": {},
   "outputs": [
    {
     "data": {
      "image/png": "[encoded data removed]",
      "text/plain": [
       "<Figure size 432x288 with 1 Axes>"
      ]
     },
     "metadata": {
      "needs_background": "light"
     },
     "output_type": "display_data"
    }
   ],
   "source": [
    "# plotando a solução exata para comparar\n",
    "Xex = np.arange(0, 4.1, 0.1)\n",
    "Yex = []\n",
    "sol_ex = lambda x: -0.5*x**4 + 4*x**3 - 10*x**2 + 8.5*x + 1.0\n",
    "\n",
    "for x in Xex:\n",
    "    Yex.append(sol_ex(x))\n",
    "\n",
    "plt.plot(X, Y, \"r-\", Xex, Yex, \"b-\")\n",
    "plt.grid()\n",
    "plt.show()"
   ]
  },
  {
   "cell_type": "markdown",
   "metadata": {},
   "source": [
    "Nesse exemplo usamos um polinômio simples para a equação diferencial para facilitar a análise de erro a seguir. Logo,\n",
    "\n",
    "$$\\frac{dy}{dx} = f(x)$$\n",
    "\n",
    "Um caso mais geral envolveria EDOs que dependam de $x$ e $y$, \n",
    "\n",
    "$$\\frac{dy}{dx} = f(x,y)$$\n",
    "\n",
    "Conforme progredirmos por esta parte do texto, nossos exemplos vão envolver cada vez mais EDOs que dependem tanto das variáveis dependentes quanto das independentes."
   ]
  },
  {
   "cell_type": "markdown",
   "metadata": {},
   "source": [
    "**Exemplo 1.9:** Use o método de Euler para integrar numericamente a equação:\n",
    "\n",
    "$$ \\frac{dy}{dx} = x-y+2$$\n",
    "\n",
    "de $x = 0$ a $x = 1$ com um tamanho de passo de $0.25$. A condição inicial em $x = 0$ é $y = 2$. "
   ]
  },
  {
   "cell_type": "code",
   "execution_count": 72,
   "metadata": {},
   "outputs": [
    {
     "name": "stdout",
     "output_type": "stream",
     "text": [
      "pontos xi: [0.  0.2 0.4 0.6 0.8 1. ]\n",
      "pontos yi: [2.0, 2.0, 2.04, 2.112, 2.2096, 2.32768]\n"
     ]
    },
    {
     "data": {
      "image/png": "[encoded data removed]",
      "text/plain": [
       "<Figure size 432x288 with 1 Axes>"
      ]
     },
     "metadata": {
      "needs_background": "light"
     },
     "output_type": "display_data"
    }
   ],
   "source": [
    "import numpy as np\n",
    "import matplotlib.pyplot as plt\n",
    "\n",
    "h = 0.20 #passo\n",
    "x0 = 0.0\n",
    "xn = 1.0\n",
    "\n",
    "# criamos a lista com os pontos xi\n",
    "X = np.arange(x0, xn+h, h) \n",
    "print (\"pontos xi:\", X)\n",
    "\n",
    "# lista com y0, a ser preenchida pelos yi\n",
    "Y = [2.0]                  \n",
    "\n",
    "# entramos com f(x,y)\n",
    "f = lambda x,y: x-y+2\n",
    "\n",
    "# laço para ir calculando os yi e preenchendo a lista\n",
    "for n in range(len(X)-1):\n",
    "    Y.append(Y[n] + f(X[n],Y[n])*h ) #Y[-1] é o último yi calculado\n",
    "    \n",
    "# imprime\n",
    "print (\"pontos yi:\", Y)\n",
    "s = lambda x: np.exp(-x) + x + 1\n",
    "Xe = np.linspace(x0,xn, 20)\n",
    "Ye = s(Xe)\n",
    "\n",
    "\n",
    "# plota\n",
    "plt.plot(X, Y, \"r-\", Xe, Ye, \"b-\")\n",
    "plt.grid()\n",
    "plt.show()"
   ]
  },
  {
   "cell_type": "markdown",
   "metadata": {},
   "source": [
    "## 1.6  Métodos de Série de Taylor\n",
    "\n",
    "Consideremos o Problema de Valor Inicial (PVI) descrito por\n",
    "$$\\begin{cases} \n",
    "   y' = f(x,y) \\\\\n",
    "   y(x_0)=y_0\n",
    "  \\end{cases}$$\n",
    "\n",
    "\n",
    "Supondo que a solução $y(x)$ do PVI possui todas as derivadas contínuas no intervalo $[a,b]$ que contém os pontos de discretização $x_0$,$x_1$,...,$x_n$ , o desenvolvimento em série de Taylor da função $y(x)$ em torno do ponto $x_n$ é dado por\n",
    "\n",
    "$$ y(x) = y(x_n) + y'(x_n)(x−x_n) + y''(x_n)\\frac{(x-x_n)^2}{2!}+...+y^{(p)}(x_n)\\frac{(x-x_n)^p}{p!}+y^{(p+1)}(\\xi)\\frac{(x-\\xi)^{p+1}}{(p+1)!}$$\n",
    "\n",
    "com $ x_0<\\xi<x$. \n",
    "\n",
    "Tomando $x = x_n + h$, denotado por $x_n+1$ , assim, $h = x_n+1 − x_n$ e temos:\n",
    "\n",
    "$$ y(x) = y(x_n) + y'(x_n)h + y''(x_n)\\frac{h^2}{2!}+...+y^{(p)}(x_n)\\frac{h^p}{p!}+y^{(p+1)}(\\xi)\\frac{(x-\\xi)^{p+1}}{(p+1)!}$$\n",
    "\n",
    "Se truncarmos a série de Taylor no p-ésimo termo, temos:\n",
    "\n",
    "$$ y(x) = y(x_n) + y'(x_n)h + y''(x_n)\\frac{h^2}{2!}+...+y^{(p)}(x_n)\\frac{h^p}{p!}$$\n",
    "\n",
    "com um **erro de truncamento** dado pelo último termo da série de Taylor\n",
    "\n",
    "$$e(x_n)=y^{(p+1)}(\\xi)\\frac{(x-\\xi)^{p+1}}{(p+1)!}$$\n",
    "\n",
    "\n",
    "Se a função $y(x)$ possui a derivada de ordem $(p + 1)$ contínua no intervalo $[a,b]$, então existe $M = max \\left\\{ \\left|y^{(p+1)}(x)\\right|, x \\in [a,b] \\right\\}$, e temos uma estimativa para o erro dada por um limitante superior, de ordem $(p + 1)$, como segue:\n",
    "\n",
    "$$ |E| \\leq \\frac{h^{p+1}}{(p+1)!}M$$\n",
    "\n",
    "Assim, usando a série de Taylor, podemos calcular aproximações para $y(x)$ da seguinte forma:\n",
    "\n",
    "$$ y(x_{n+1}) = y_n + y'_nh + y''_n\\frac{h^2}{2!}+...+y^{(p)}_n\\frac{h^p}{p!}$$\n",
    "\n",
    "onde \n",
    "\n",
    "$ y'_n = f(x_n, y_n)$\n",
    "\n",
    "$ y''_n = f_x(x_n, y_n) + f_y(x_n, y_n)y'_n$\n",
    "\n",
    "$y'''_n = f_{xx}(x_n, y_n) + 2f_{xy}(x_n, y_n)f(x_n, y_n) + f^2(x_n, y_n)f_{yy}(x_n, y_n) + f^2_y(x_n, y_n)f(x_n, y_n)$\n",
    "\n",
    "$\\vdots $\n"
   ]
  },
  {
   "cell_type": "markdown",
   "metadata": {},
   "source": [
    "**Exemplo 11.10 (Método de Taylor de ordem $p=2$:** Use o método de Taylor de ordem 2 para integrar numericamente a equação:\n",
    "\n",
    "$$ \\begin {cases}\n",
    "   \\frac{dy}{dx} = x-y+2 \\\\\n",
    "    y(0)=2\n",
    "    \\end{cases}$$\n",
    "\n",
    "de $x = 0$ a $x = 1$ com $N = 5$ subintervalos. Compare os valores e plote o resultado considerando a solução exata $y(x)=e^x - x + 1$.\n",
    "\n",
    "*Solução:*\n",
    "\n",
    "Precisamos usar a fórmula de recorrência\n",
    "\n",
    "$$ y_{n+1} = y_n + y'_nh + y''_n\\frac{h^2}{2!} $$\n",
    "\n",
    "em que\n",
    "\n",
    "$$ y' = x - y + 2 $$\n",
    "\n",
    "$$ y'' = 1-y' = 1-(x-y+2) = -x+y-1$$\n",
    "\n",
    "então\n",
    "\n",
    "$$ y_{n+1} = y_n + (x_n - y_n + 2)h + (-x_n+y_n-1) \\frac{h^2}{2!} $$"
   ]
  },
  {
   "cell_type": "code",
   "execution_count": 73,
   "metadata": {},
   "outputs": [
    {
     "name": "stdout",
     "output_type": "stream",
     "text": [
      "Y 1 = 2.02\n",
      "Y 2 = 2.0724\n",
      "Y 3 = 2.1513679999999997\n",
      "Y 4 = 2.2521217599999996\n",
      "Y 5 = 2.3707398431999995\n",
      "[0.  0.2 0.4 0.6 0.8 1. ]\n",
      "Sol. aprox.: [2.     2.02   2.0724 2.1514 2.2521 2.3707]\n",
      "Sol. exata.: [2.     2.0187 2.0703 2.1488 2.2493 2.3679]\n"
     ]
    },
    {
     "data": {
      "image/png": "[encoded data removed]",
      "text/plain": [
       "<Figure size 432x288 with 1 Axes>"
      ]
     },
     "metadata": {
      "needs_background": "light"
     },
     "output_type": "display_data"
    }
   ],
   "source": [
    "import numpy as np\n",
    "import matplotlib.pyplot as plt\n",
    "\n",
    "f = lambda x,y: x-y+2\n",
    "df = lambda x,y: -x+y-1\n",
    "\n",
    "x0 = 0\n",
    "xn = 1\n",
    "n = 5 #subintervalos\n",
    "\n",
    "X = np.linspace(x0,xn,n+1)\n",
    "Y = np.zeros(n+1)\n",
    "Y[0] = 2\n",
    "h=(xn-x0)/n\n",
    "for i in range(n):\n",
    "    Y[i+1] = Y[i] + h*f(X[i],Y[i]) + 0.5*(h**2)*df(X[i],Y[i])\n",
    "    print (\"Y\",i+1,\"=\",Y[i+1])\n",
    "print (X)\n",
    "print ('Sol. aprox.:',np.round(Y,4))\n",
    "print ('Sol. exata.:',np.round(np.exp(-X) + X + 1, 4))\n",
    "\n",
    "Xe = np.linspace(X[0],X[-1],21)\n",
    "Ye = np.exp(-Xe) + Xe + 1\n",
    "\n",
    "\n",
    "# plotando\n",
    "plt.plot(X, Y, \"x\",Xe, Ye, 'b--')\n",
    "plt.grid()\n",
    "plt.show()"
   ]
  },
  {
   "cell_type": "markdown",
   "metadata": {},
   "source": [
    "## 11.7 Métodos de Runge-Kutta \n",
    "\n",
    "O método de Runge-Kutta mais simples é o de ordem 1. Neste caso, o método coincide com o método de Euler, isto é, o método de Taylor de ordem 1, apresentado na seção 11.5. \n",
    "\n",
    "Assim, considerando, novamente, o Problema de Valor Inicial (PVI) dado por\n",
    "\n",
    "$$\\begin{cases} \n",
    "   y' = f(x,y) \\\\\n",
    "   y(x_0)=y_0\n",
    "  \\end{cases}$$\n",
    "\n",
    "tem-se o Método de Runge-Kutta como é apresentado a seguir.\n",
    "\n",
    "\n",
    "### Método de Runge-Kutta de ordem 1\n",
    "\n",
    "O processo iterativo será dado por:\n",
    "\n",
    "$$ y_{n+1} =y_n + hk_1 $$ \n",
    "com\n",
    "$$ k_1 = f(x_n, y_n)$$\n",
    "\n",
    "(Ver exempos de seção 8.2).\n",
    "\n",
    "### Método de Runge-Kutta de ordem 2\n",
    "\n",
    "O processo iterativo será dado por:\n",
    "\n",
    "$$ y_{n+1} =y_n + \\frac{h}{2}(k_1+k_2) $$ \n",
    "\n",
    "com\n",
    "$$ k_1 = f(x_n, y_n)$$\n",
    "\n",
    "$$ k_2 = f(x_n+h, y_n+hk_1) $$\n",
    "\n",
    "\n",
    "o qual também é conhecido como **método de Euler aperfeiçoado**.\n",
    "\n",
    "A figura abaixo ilustra uma  interpretação gráfica do método.\n",
    "\n",
    "<img src=\"https://github.com/tiagoburiol/NUMETHODS/raw/master/8_SOLUCAO_NUMERICA_DE_EDOs/imagens/runge_kutta_ordem_2.png\" width=\"600\">"
   ]
  },
  {
   "cell_type": "markdown",
   "metadata": {},
   "source": [
    "**Exemplo 1.11:** Usando o método de Euler aperfeiçoado, calcule a solução do PVI definido por:\n",
    "\n",
    "$$\\begin{cases} \n",
    "   y' = f(x,y)=x-y+2 \\\\\n",
    "   y(x_0)= y(0) = 2\n",
    "  \\end{cases}$$\n",
    "\n",
    "com $x \\in [a,b] = [0,1]$ e $N = 5$. \n",
    "\n",
    "A solução exata é $y(x) = e^{-x}+x+1$."
   ]
  },
  {
   "cell_type": "code",
   "execution_count": 57,
   "metadata": {},
   "outputs": [
    {
     "name": "stdout",
     "output_type": "stream",
     "text": [
      "[0.  0.2 0.4 0.6 0.8 1. ]\n",
      "[2.0, 2.02, 2.0724, 2.151368, 2.25212176, 2.3707398432]\n",
      "[2.         2.01873075 2.07032005 2.14881164 2.24932896 2.36787944]\n"
     ]
    },
    {
     "data": {
      "image/png": "[encoded data removed]",
      "text/plain": [
       "<Figure size 432x288 with 1 Axes>"
      ]
     },
     "metadata": {
      "needs_background": "light"
     },
     "output_type": "display_data"
    }
   ],
   "source": [
    "import numpy as np\n",
    "import matplotlib.pyplot as plt\n",
    "\n",
    "f = lambda x,y: x-y+2\n",
    "x0 = 0.0\n",
    "y0 = 2.0\n",
    "N = 5\n",
    "\n",
    "a = 0.0\n",
    "b = 1.0\n",
    "X = np.linspace(a,b,N+1)\n",
    "print (X)\n",
    "Y = [y0]\n",
    "\n",
    "h = (b-a)/N\n",
    "\n",
    "for n in range(len(X)-1):\n",
    "    k1 = f(X[n], Y[n])\n",
    "    k2 = f(X[n]+h, Y[n]+h*k1)\n",
    "    Y.append(Y[n]+0.5*h*(k1+k2))\n",
    "print (Y)  \n",
    "\n",
    "s = lambda x: np.exp(-x) + x + 1\n",
    "Xe = np.linspace(a,b, 20)\n",
    "Ye = s(Xe)\n",
    "print (s(X))\n",
    "\n",
    "# plota\n",
    "plt.plot(X, Y, \"r-\", Xe, Ye, \"b-\")\n",
    "plt.grid()\n",
    "plt.show()"
   ]
  },
  {
   "cell_type": "markdown",
   "metadata": {},
   "source": [
    "**Exemplo 1.12:** Usando o método de Euler modificado, calcule a solução do PVI definido por:\n",
    "\n",
    "$$\\begin{cases} \n",
    "   y' = f(x,y)=x-y+2 \\\\\n",
    "   y(x_0)= y(0) = 2\n",
    "  \\end{cases}$$\n",
    "\n",
    "com $x \\in [a,b] = [0,1]$ e $h=0.2$. \n",
    "\n",
    "A solução exata é $y(x) = e^{-x}+x+1$."
   ]
  },
  {
   "cell_type": "code",
   "execution_count": 58,
   "metadata": {},
   "outputs": [
    {
     "name": "stdout",
     "output_type": "stream",
     "text": [
      "[0.  0.2 0.4 0.6 0.8 1. ]\n",
      "[2.     2.02   2.0724 2.1514 2.2521 2.3707]\n",
      "[2.     2.0187 2.0703 2.1488 2.2493 2.3679]\n"
     ]
    },
    {
     "data": {
      "image/png": "[encoded data removed]",
      "text/plain": [
       "<Figure size 432x288 with 1 Axes>"
      ]
     },
     "metadata": {
      "needs_background": "light"
     },
     "output_type": "display_data"
    }
   ],
   "source": [
    "import numpy as np\n",
    "import matplotlib.pyplot as plt\n",
    "\n",
    "f = lambda x,y: x-y+2\n",
    "x0 = 0.0\n",
    "y0 = 2.0\n",
    "N = 5\n",
    "\n",
    "a = 0.0\n",
    "b = 1.0\n",
    "X = np.linspace(a,b,N+1)\n",
    "print (X)\n",
    "Y = [y0]\n",
    "\n",
    "h = (b-a)/N\n",
    "\n",
    "for n in range(len(X)-1):\n",
    "    k1 = f(X[n], Y[n])\n",
    "    Y.append(Y[n] + h * f(X[n]+0.5*h, Y[n]+0.5*h*k1))\n",
    "    #print (k1,Y[-1])\n",
    "print (np.round(Y,4))\n",
    "\n",
    "s = lambda x: np.exp(-x) + x + 1\n",
    "Xe = np.linspace(a,b, 20)\n",
    "Ye = s(Xe)\n",
    "print (np.round(s(X),4))\n",
    "\n",
    "# plota\n",
    "plt.plot(X, Y, \"r-\", Xe, Ye, \"b-\")\n",
    "plt.grid()\n",
    "plt.show()"
   ]
  },
  {
   "cell_type": "markdown",
   "metadata": {},
   "source": [
    "### Método de Runge-Kutta de ordem 3\n",
    "\n",
    "O método de Runge-Kutta ordem 3 é dado po\n",
    "\n",
    "$$ y_{n+1} =y_n + \\frac{h}{9}(2k_1 + 3k_2 + 4k_3) $$ \n",
    "\n",
    "com\n",
    "\n",
    "$$ k_1 = f(x_n , y_n)$$\n",
    "\n",
    "$$ k_2 = f(x_n + \\frac{1}{2}h, y_n + \\frac{1}{2}hk_1) $$\n",
    "\n",
    "$$ k_3 = f(x_n + \\frac{3}{4}h, y_n + \\frac{3}{4}hk_2) $$"
   ]
  },
  {
   "cell_type": "markdown",
   "metadata": {},
   "source": [
    "**Exemplo 1.13:** Usando o método de Runge-Kutta de ordem 3, calcule a solução do PVI definido por:\n",
    "\n",
    "$$\\begin{cases} \n",
    "   y' = f(x,y)=x-y+2 \\\\\n",
    "   y(x_0)= y(0) = 2\n",
    "  \\end{cases}$$\n",
    "\n",
    "com $x \\in [a,b] = [0,1]$ e $h=0.2$. \n",
    "\n",
    "A solução exata é $y(x) = e^{-x}+x+1$."
   ]
  },
  {
   "cell_type": "code",
   "execution_count": 59,
   "metadata": {},
   "outputs": [
    {
     "name": "stdout",
     "output_type": "stream",
     "text": [
      "[0.  0.2 0.4 0.6 0.8 1. ]\n",
      "[2.     2.0187 2.0702 2.1487 2.2492 2.3677]\n"
     ]
    },
    {
     "data": {
      "image/png": "[encoded data removed]",
      "text/plain": [
       "<Figure size 432x288 with 1 Axes>"
      ]
     },
     "metadata": {
      "needs_background": "light"
     },
     "output_type": "display_data"
    },
    {
     "name": "stdout",
     "output_type": "stream",
     "text": [
      "[0.  0.2 0.4 0.6 0.8 1. ]\n",
      "[2.     2.0187 2.0702 2.1487 2.2492 2.3677]\n"
     ]
    },
    {
     "data": {
      "image/png": "[encoded data removed]",
      "text/plain": [
       "<Figure size 432x288 with 1 Axes>"
      ]
     },
     "metadata": {
      "needs_background": "light"
     },
     "output_type": "display_data"
    }
   ],
   "source": [
    "\n",
    "import numpy as np\n",
    "import matplotlib.pyplot as plt\n",
    "\n",
    "f = lambda x,y: x-y+2\n",
    "x0 = 0.0\n",
    "y0 = 2.0\n",
    "N = 5\n",
    "\n",
    "a = 0.0\n",
    "b = 1.0\n",
    "X = np.linspace(a,b,N+1)\n",
    "print (X)\n",
    "Y = [y0]\n",
    "\n",
    "h = (b-a)/N\n",
    "for n in range(len(X)-1):\n",
    "    k1 = f(X[n], Y[n])\n",
    "    k2 = f(X[n]+0.5*h, Y[n]+0.5*h*k1)\n",
    "    k3 = f(X[n]+0.75*h, Y[n]+0.75*h*k2)\n",
    "    Y.append(Y[n] + (h/9) * (2*k1 + 3*k2 + 4*k3))\n",
    "    #print (k1,Y[-1])\n",
    "print (np.round(Y,4))\n",
    "\n",
    "# plota\n",
    "plt.plot(X, Y, \"xb-\", Xe, Ye, \"r-\")\n",
    "plt.grid()\n",
    "plt.show()\n",
    "import numpy as np\n",
    "import matplotlib.pyplot as plt\n",
    "\n",
    "f = lambda x,y: x-y+2\n",
    "x0 = 0.0\n",
    "y0 = 2.0\n",
    "N = 5\n",
    "\n",
    "a = 0.0\n",
    "b = 1.0\n",
    "X = np.linspace(a,b,N+1)\n",
    "print (X)\n",
    "Y = [y0]\n",
    "\n",
    "h = (b-a)/N\n",
    "for n in range(len(X)-1):\n",
    "    k1 = f(X[n], Y[n])\n",
    "    k2 = f(X[n]+0.5*h, Y[n]+0.5*h*k1)\n",
    "    k3 = f(X[n]+0.75*h, Y[n]+0.75*h*k2)\n",
    "    Y.append(Y[n] + (h/9) * (2*k1 + 3*k2 + 4*k3))\n",
    "    #print (k1,Y[-1])\n",
    "print (np.round(Y,4))\n",
    "\n",
    "# plota\n",
    "plt.plot(X, Y, \"xb-\", Xe, Ye, \"r-\")\n",
    "plt.grid()\n",
    "plt.show()"
   ]
  },
  {
   "cell_type": "markdown",
   "metadata": {},
   "source": [
    "### Método de Runge-Kutta de ordem 4\n",
    "\n",
    "O método de Runge-Kutta ordem 4 é dado po\n",
    "\n",
    "$$ y_{n+1} =y_n + \\frac{h}{6}(k_1 + 2k_2 + 2k_3 +k4) $$ \n",
    "\n",
    "com\n",
    "\n",
    "$$ k_1 = f(x_n , y_n)$$\n",
    "\n",
    "$$ k_2 = f(x_n + \\frac{1}{2}h, y_n + \\frac{1}{2}hk_1) $$\n",
    "\n",
    "$$ k_3 = f(x_n + \\frac{1}{2}h, y_n + \\frac{1}{2}hk_2) $$\n",
    "\n",
    "$$ k_4 = f(x_n + h, y_n + hk_3) $$"
   ]
  },
  {
   "cell_type": "markdown",
   "metadata": {},
   "source": [
    "**Exemplo 1.14:** Usando o método de Runge-Kutta de ordem 4, calcule a solução do PVI definido por:\n",
    "\n",
    "$$\\begin{cases} \n",
    "   y' = f(x,y)=x-y+2 \\\\\n",
    "   y(x_0)= y(0) = 2\n",
    "  \\end{cases}$$\n",
    "\n",
    "com $x \\in [a,b] = [0,1]$ e $h=0.2$. \n",
    "\n",
    "A solução exata é $y(x) = e^{-x}+x+1$."
   ]
  },
  {
   "cell_type": "code",
   "execution_count": 60,
   "metadata": {},
   "outputs": [
    {
     "name": "stdout",
     "output_type": "stream",
     "text": [
      "[0.  0.2 0.4 0.6 0.8 1. ]\n",
      "[2.     2.0187 2.0703 2.1488 2.2493 2.3679]\n"
     ]
    },
    {
     "data": {
      "image/png": "[encoded data removed]",
      "text/plain": [
       "<Figure size 432x288 with 1 Axes>"
      ]
     },
     "metadata": {
      "needs_background": "light"
     },
     "output_type": "display_data"
    }
   ],
   "source": [
    "import numpy as np\n",
    "import matplotlib.pyplot as plt\n",
    "\n",
    "f = lambda x,y: x-y+2\n",
    "x0 = 0.0\n",
    "y0 = 2.0\n",
    "N = 5\n",
    "\n",
    "a = 0.0\n",
    "b = 1.0\n",
    "X = np.linspace(a,b,N+1)\n",
    "print (X)\n",
    "Y = [y0]\n",
    "\n",
    "h = (b-a)/N\n",
    "for n in range(len(X)-1):\n",
    "    k1 = f(X[n], Y[n])\n",
    "    k2 = f(X[n]+0.5*h, Y[n]+0.5*h*k1)\n",
    "    k3 = f(X[n]+0.5*h, Y[n]+0.5*h*k2)\n",
    "    \n",
    "    k4 = f(X[n]+h, Y[n]+h*k3)\n",
    "    Y.append(Y[n] + (h/6) * (k1 + 2*k2 + 2*k3 + k4))\n",
    "    #print (k1,Y[-1])\n",
    "print (np.round(Y,4))\n",
    "\n",
    "# plota\n",
    "plt.plot(X, Y, \"xr-\", Xe, Ye, \"b-\")\n",
    "plt.grid()\n",
    "plt.show()"
   ]
  },
  {
   "cell_type": "markdown",
   "metadata": {},
   "source": [
    "Como já vimod, a biblioteca `scipy` implementa alguns algoritmos numéricos para soluções de PVIs em `solve_ivp`. Vamos usar para esse mesmo problema."
   ]
  },
  {
   "cell_type": "code",
   "execution_count": 69,
   "metadata": {},
   "outputs": [
    {
     "data": {
      "image/png": "[encoded data removed]",
      "text/plain": [
       "<Figure size 432x288 with 1 Axes>"
      ]
     },
     "metadata": {
      "needs_background": "light"
     },
     "output_type": "display_data"
    }
   ],
   "source": [
    "f = lambda x,y: x-y+2\n",
    "sol = solve_ivp(f, [0, 1], [2],\n",
    "                method=\"RK45\", #Runge-Kutta method of order 5(4)\n",
    "                t_eval = np.linspace(0,1,10))\n",
    "plt.plot(sol.t, sol.y[0], 'x')\n",
    "\n",
    "\n",
    "sol_ex = lambda x: np.exp(-x) + x + 1\n",
    "te = np.linspace(0.0,1.0)\n",
    "plt.plot(te,sol_ex(te),':')\n",
    "plt.grid()\n",
    "plt.show()"
   ]
  },
  {
   "cell_type": "markdown",
   "metadata": {},
   "source": [
    "**Referências**\n",
    "\n",
    "BOYCE, William E. Equações Diferenciais Elementares e Problemas de Valores de Contorno. Grupo GEN, 2020. E-book. ISBN 9788521637134. Disponível em: https://integrada.minhabiblioteca.com.br/#/books/9788521637134/. Acesso em: 19 mar. 2023.\n",
    "\n",
    "KONG, Qingkai; SIAUW, Timmy; BAYEN, Alexandre M. Python Programming and Numerical Methods: A Guide For Engineers And Scientists. ed 1, Academic Press, 2021. DOI: https://doi.org/10.1016/C2018-0-04165-1. Disponível em:\n",
    "https://pythonnumericalmethods.berkeley.edu/notebooks/Index.html. Acesso em: 23 mar. 2023\n",
    "\n",
    "\n",
    "LANGTANGEN, Hans Pette. A Primer on Scientific Programming with Python. Texts in Computational Science and Engineering. Springer Berlin, Heidelberg, ed 5, 2016. DOI: https://doi.org/10.1007/978-3-662-49887-3. Acesso em: 21 mar. 2023.\n",
    "\n",
    "LEBL, Jiří. Differential Equations for Engineers. Amazon KDP edition, 2022. ISBN-13: 978-1-70623-023-6. Disponível em \n",
    "https://www.jirka.org/diffyqs/html/intfactor_section.html. Acesso em: 21 mar. 2023.\n",
    "\n",
    "LYNCH, Stephen. Dynamical Systems with Applications Using Python. Birkhauser, 2018. http://www.doc.mmu.ac.uk/STAFF/S.Lynch/DSAP_Jupyter_Notebook.html\n",
    "\n",
    "MARTINS, Ricardo Miranda. Tutorial rápido de Python para Matemáticos. IME-Unicamp, 2022. Disponível em: http://www.ime.unicamp.br/~rmiranda/code/python/python.html#Equa%C3%A7%C3%B5es-lineares-de-primeira-e-segunda-ordens. Acesso em: 21 mar. 2023.\n",
    "\n",
    "https://www.sympy.org/scipy-2017-codegen-tutorial/notebooks/20-ordinary-differential-equations.html\n"
   ]
  },
  {
   "cell_type": "code",
   "execution_count": null,
   "metadata": {},
   "outputs": [],
   "source": []
  }
 ],
 "metadata": {
  "kernelspec": {
   "display_name": "Python 3",
   "language": "python",
   "name": "python3"
  },
  "language_info": {
   "codemirror_mode": {
    "name": "ipython",
    "version": 3
   },
   "file_extension": ".py",
   "mimetype": "text/x-python",
   "name": "python",
   "nbconvert_exporter": "python",
   "pygments_lexer": "ipython3",
   "version": "3.8.5"
  }
 },
 "nbformat": 4,
 "nbformat_minor": 4
}

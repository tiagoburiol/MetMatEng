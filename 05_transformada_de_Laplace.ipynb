{
 "cells": [
  {
   "cell_type": "markdown",
   "id": "bc9e876e",
   "metadata": {},
   "source": [
    "# 5. Transformada de Laplace\n",
    "\n",
    "A transformada de Laplace é dada por\n",
    "\n",
    "$$\\mathcal{L}\\{f(t)\\} = F(t) = \\int_0^\\infty f(t) e^{-st} \\mathrm{d}s $$\n",
    "\n",
    "e pode ser utilizada para resolver PVIs. As funções que admitem transformadas são as seccionalmente contínuas e de ordem exponencial quando $t \\rightarrow \\infty$. A ideia central do uso para resolver PVIs é transformar o problema para o domínio de $s$, resolver para $F(s)$ e recuperar $y(t)$ invertendo a transformação (ransformada inversa)."
   ]
  },
  {
   "cell_type": "markdown",
   "id": "dd78fb86",
   "metadata": {},
   "source": [
    "**Exemplo 1:** Seja f(t)=e^{at}, $t \\leq 0$, a transformada de Laplace é dada por\n",
    "\n",
    "$$\\mathcal{L}\\{e^{at}\\} = F(t) = \\int_0^\\infty e^{at} e^{-st} \\mathrm{d}s =\n",
    " \\int_0^\\infty e^{(a-s)t} \\mathrm{d}s = \\lim_{A \\rightarrow \\infty} \\int_0^A e^{(a-s)t} \\mathrm{d}s$$\n",
    "Então\n",
    "\n",
    "$$F(s) = \\frac{1}{s-a} \\text{,}\\,\\,\\,\\, s>0$$"
   ]
  },
  {
   "cell_type": "markdown",
   "id": "0e9608fb",
   "metadata": {},
   "source": [
    "**Exemplo 2:** Seja f(t)=sen(at), $t \\leq 0$, a transformada de Laplace é dada por\n",
    "\n",
    "$$\\mathcal{L}\\{sen(at)\\} = \\int_0^\\infty sen(at) e^{-st} \\mathrm{d}s$$\n",
    "\n",
    "Integrando por partes duas vezes chega-se em \n",
    "\n",
    "$$ F(s) = \\frac{a}{s^2+a^2}\\text{,}\\,\\,\\,\\, s>0$$"
   ]
  },
  {
   "cell_type": "markdown",
   "id": "be83f563",
   "metadata": {},
   "source": [
    "**Exemplo 3:** Seja $f(t)=5e^{-2t}-3sen(4t)$, $t \\leq 0$. Lembrando que a transformada de Laplace é um operador linear, escrevemos\n",
    "\n",
    "$$\\mathcal{L}\\{5e^{-2t}-3sen(4t)\\} = 5\\mathcal{L}\\{e^{-2t}\\}- 3\\mathcal{L}\\{sen(4t)\\}\n",
    "$$\n",
    "\n",
    "que resulta\n",
    "\n",
    "$$ F(s) = \\frac{5}{s+2}-\\frac{12}{s^2+16}\\text{,}\\,\\,\\,\\, s>0$$"
   ]
  },
  {
   "cell_type": "markdown",
   "id": "b0b6231f",
   "metadata": {},
   "source": [
    "### Transformada de Laplace com Sympy\n",
    "\n",
    "Vamos usar Sympy para calcular algumas transformadas de Laplace. Começamos importando as bibliotecas e definindo alguns símbolos."
   ]
  },
  {
   "cell_type": "code",
   "execution_count": 56,
   "id": "43282d3c",
   "metadata": {},
   "outputs": [],
   "source": [
    "import sympy as sp\n",
    "sympy.init_printing()\n",
    "\n",
    "t, s = sp.symbols('t, s')\n",
    "a = sp.symbols('a', real=True, positive=True)"
   ]
  },
  {
   "cell_type": "markdown",
   "id": "326eb558",
   "metadata": {},
   "source": [
    "**Exemplo 4:** Transformada de $f(t)=e^{at}$, $t \\geq 0$."
   ]
  },
  {
   "cell_type": "code",
   "execution_count": 57,
   "id": "aefa5fcc",
   "metadata": {},
   "outputs": [
    {
     "data": {
      "text/latex": [
       "$\\displaystyle \\begin{cases} - \\frac{1}{a \\left(1 - \\frac{s}{a}\\right)} & \\text{for}\\: a - \\cos{\\left(\\left|{\\arg{\\left(s \\right)}}\\right| \\right)} \\left|{s}\\right| < 0 \\wedge \\left|{\\arg{\\left(s \\right)}}\\right| < \\frac{\\pi}{2} \\wedge \\frac{s}{a} \\neq 1 \\\\\\int\\limits_{0}^{\\infty} e^{a t} e^{- s t}\\, dt & \\text{otherwise} \\end{cases}$"
      ],
      "text/plain": [
       "⎧      -1                                                    π   s    \n",
       "⎪   ─────────     for a - cos(│arg(s)│)⋅│s│ < 0 ∧ │arg(s)│ < ─ ∧ ─ ≠ 1\n",
       "⎪     ⎛    s⎞                                                2   a    \n",
       "⎪   a⋅⎜1 - ─⎟                                                         \n",
       "⎪     ⎝    a⎠                                                         \n",
       "⎪                                                                     \n",
       "⎨∞                                                                    \n",
       "⎪⌠                                                                    \n",
       "⎪⎮  a⋅t  -s⋅t                                                         \n",
       "⎪⎮ ℯ   ⋅ℯ     dt                       otherwise                      \n",
       "⎪⌡                                                                    \n",
       "⎪0                                                                    \n",
       "⎩                                                                     "
      ]
     },
     "execution_count": 57,
     "metadata": {},
     "output_type": "execute_result"
    }
   ],
   "source": [
    "f = sp.exp(a*t)\n",
    "F = sp.integrate(f*sp.exp(-s*t), (t, 0, sp.oo))\n",
    "F"
   ]
  },
  {
   "cell_type": "code",
   "execution_count": 27,
   "id": "8dd666f1",
   "metadata": {},
   "outputs": [
    {
     "data": {
      "text/latex": [
       "$\\displaystyle \\begin{cases} \\frac{1}{- a + s} & \\text{for}\\: a - \\cos{\\left(\\left|{\\arg{\\left(s \\right)}}\\right| \\right)} \\left|{s}\\right| < 0 \\wedge \\left|{\\arg{\\left(s \\right)}}\\right| < \\frac{\\pi}{2} \\wedge \\frac{s}{a} \\neq 1 \\\\\\int\\limits_{0}^{\\infty} e^{t \\left(a - s\\right)}\\, dt & \\text{otherwise} \\end{cases}$"
      ],
      "text/plain": [
       "⎧      1                                                     π   s    \n",
       "⎪    ──────       for a - cos(│arg(s)│)⋅│s│ < 0 ∧ │arg(s)│ < ─ ∧ ─ ≠ 1\n",
       "⎪    -a + s                                                  2   a    \n",
       "⎪                                                                     \n",
       "⎪∞                                                                    \n",
       "⎨⌠                                                                    \n",
       "⎪⎮  t⋅(a - s)                                                         \n",
       "⎪⎮ ℯ          dt                       otherwise                      \n",
       "⎪⌡                                                                    \n",
       "⎪0                                                                    \n",
       "⎩                                                                     "
      ]
     },
     "execution_count": 27,
     "metadata": {},
     "output_type": "execute_result"
    }
   ],
   "source": [
    "sp.simplify(F)"
   ]
  },
  {
   "cell_type": "markdown",
   "id": "1d621570",
   "metadata": {},
   "source": [
    "Também existe uma função pronta no sympy. A função retorna também as condições de convergência da integral imprópria."
   ]
  },
  {
   "cell_type": "code",
   "execution_count": 28,
   "id": "7781ff6e",
   "metadata": {},
   "outputs": [
    {
     "data": {
      "text/latex": [
       "$\\displaystyle \\left( \\frac{1}{- a + s}, \\  a, \\  \\frac{s}{a} \\neq 1\\right)$"
      ],
      "text/plain": [
       "⎛  1        s    ⎞\n",
       "⎜──────, a, ─ ≠ 1⎟\n",
       "⎝-a + s     a    ⎠"
      ]
     },
     "execution_count": 28,
     "metadata": {},
     "output_type": "execute_result"
    }
   ],
   "source": [
    "sp.laplace_transform(f, t, s)"
   ]
  },
  {
   "cell_type": "markdown",
   "id": "5b7a71a9",
   "metadata": {},
   "source": [
    "**Exemplo 2:** Transformada de $f(t)=sen(at)$, $t \\geq 0$."
   ]
  },
  {
   "cell_type": "code",
   "execution_count": 37,
   "id": "672a90f2",
   "metadata": {},
   "outputs": [
    {
     "data": {
      "text/latex": [
       "$\\displaystyle \\begin{cases} \\frac{a}{a^{2} + s^{2}} & \\text{for}\\: 2 \\left|{\\arg{\\left(s \\right)}}\\right| < \\pi \\\\\\int\\limits_{0}^{\\infty} e^{- s t} \\sin{\\left(a t \\right)}\\, dt & \\text{otherwise} \\end{cases}$"
      ],
      "text/plain": [
       "⎧         a                             \n",
       "⎪      ───────        for 2⋅│arg(s)│ < π\n",
       "⎪       2    2                          \n",
       "⎪      a  + s                           \n",
       "⎪                                       \n",
       "⎨∞                                      \n",
       "⎪⌠                                      \n",
       "⎪⎮  -s⋅t                                \n",
       "⎪⎮ ℯ    ⋅sin(a⋅t) dt      otherwise     \n",
       "⎪⌡                                      \n",
       "⎩0                                      "
      ]
     },
     "execution_count": 37,
     "metadata": {},
     "output_type": "execute_result"
    }
   ],
   "source": [
    "f = sp.sin(a*t)\n",
    "F = sp.integrate(f*sp.exp(-s*t), (t, 0, sp.oo))\n",
    "sp.simplify(F)"
   ]
  },
  {
   "cell_type": "code",
   "execution_count": 38,
   "id": "664e0d34",
   "metadata": {},
   "outputs": [
    {
     "data": {
      "text/latex": [
       "$\\displaystyle \\left( \\frac{a}{a^{2} + s^{2}}, \\  0, \\  \\text{True}\\right)$"
      ],
      "text/plain": [
       "⎛   a            ⎞\n",
       "⎜───────, 0, True⎟\n",
       "⎜ 2    2         ⎟\n",
       "⎝a  + s          ⎠"
      ]
     },
     "execution_count": 38,
     "metadata": {},
     "output_type": "execute_result"
    }
   ],
   "source": [
    "sp.laplace_transform(f, t, s)"
   ]
  },
  {
   "cell_type": "markdown",
   "id": "7330e503",
   "metadata": {},
   "source": [
    "### Solução de PVI por transformada de Laplace\n",
    "\n",
    "Primeiramente, vamos observar que, sob certas condições (ver Boyce, 2020, corolário 6.2.2, p.245), a transformada de $f^{(n)}(t)$ é dada por \n",
    "\n",
    "$$ \\mathcal{L}\\{f^{(n)}(t) \\} = s^n\\mathcal{L}\\{f(t) \\} - s^{n-1}f(0) -...-sf^{(n-2)}(0)-f^{(n-1)}(0)$$ \n",
    "\n",
    "Essa relação sera útil na resolução de PVIs. "
   ]
  },
  {
   "cell_type": "markdown",
   "id": "9e98ef2b",
   "metadata": {},
   "source": [
    "### Customizando as funções do Sympy\n",
    "\n",
    "Pode ser útil criear uma função simplificada para a transformada de Laplace. Usando o argumento `nodonds=True`podemos omitir as condições de contorno na resposta. "
   ]
  },
  {
   "cell_type": "code",
   "execution_count": 39,
   "id": "ddc9d5ba",
   "metadata": {},
   "outputs": [],
   "source": [
    "def L(f):\n",
    "    return sympy.laplace_transform(f, t, s, noconds=True)\n",
    "\n",
    "def invL(F):\n",
    "    return sympy.inverse_laplace_transform(F, s, t)"
   ]
  },
  {
   "cell_type": "markdown",
   "id": "5f7e0dc7",
   "metadata": {},
   "source": [
    "**Exemplo 3:** Usando as função customizada para os exemplos 1 e 2."
   ]
  },
  {
   "cell_type": "code",
   "execution_count": 40,
   "id": "1ef97a47",
   "metadata": {},
   "outputs": [
    {
     "data": {
      "text/latex": [
       "$\\displaystyle \\frac{1}{- a + s}$"
      ],
      "text/plain": [
       "  1   \n",
       "──────\n",
       "-a + s"
      ]
     },
     "execution_count": 40,
     "metadata": {},
     "output_type": "execute_result"
    }
   ],
   "source": [
    "L(sp.exp(a*t))"
   ]
  },
  {
   "cell_type": "code",
   "execution_count": 41,
   "id": "1be656e2",
   "metadata": {},
   "outputs": [
    {
     "data": {
      "text/latex": [
       "$\\displaystyle \\frac{a}{a^{2} + s^{2}}$"
      ],
      "text/plain": [
       "   a   \n",
       "───────\n",
       " 2    2\n",
       "a  + s "
      ]
     },
     "execution_count": 41,
     "metadata": {},
     "output_type": "execute_result"
    }
   ],
   "source": [
    "L(sp.sin(a*t))"
   ]
  },
  {
   "cell_type": "markdown",
   "id": "0625bdef",
   "metadata": {},
   "source": [
    "**Exemplo 4:** Transformada de $f(t)=5e^{-2t}-3sen(4t)$, $t \\geq 0$."
   ]
  },
  {
   "cell_type": "code",
   "execution_count": 49,
   "id": "f61b497c",
   "metadata": {},
   "outputs": [
    {
     "data": {
      "text/latex": [
       "$\\displaystyle \\frac{5 s^{2} - 12 s + 56}{\\left(s + 2\\right) \\left(s^{2} + 16\\right)}$"
      ],
      "text/plain": [
       "    2            \n",
       " 5⋅s  - 12⋅s + 56\n",
       "─────────────────\n",
       "        ⎛ 2     ⎞\n",
       "(s + 2)⋅⎝s  + 16⎠"
      ]
     },
     "execution_count": 49,
     "metadata": {},
     "output_type": "execute_result"
    }
   ],
   "source": [
    "F = L(5*sp.exp(-2*t)-3*sp.sin(4*t))\n",
    "F"
   ]
  },
  {
   "cell_type": "markdown",
   "id": "31a45559",
   "metadata": {},
   "source": [
    "Decompondo em frações parciais"
   ]
  },
  {
   "cell_type": "code",
   "execution_count": 55,
   "id": "8f14deab",
   "metadata": {},
   "outputs": [
    {
     "data": {
      "text/latex": [
       "$\\displaystyle - \\frac{12}{s^{2} + 16} + \\frac{5}{s + 2}$"
      ],
      "text/plain": [
       "     12       5  \n",
       "- ─────── + ─────\n",
       "   2        s + 2\n",
       "  s  + 16        "
      ]
     },
     "execution_count": 55,
     "metadata": {},
     "output_type": "execute_result"
    }
   ],
   "source": [
    "F.apart(s)"
   ]
  },
  {
   "cell_type": "code",
   "execution_count": 51,
   "id": "df573d00",
   "metadata": {},
   "outputs": [
    {
     "data": {
      "text/latex": [
       "$\\displaystyle - 3 \\sin{\\left(4 t \\right)} \\theta\\left(t\\right) + 5 e^{- 2 t} \\theta\\left(t\\right)$"
      ],
      "text/plain": [
       "                      -2⋅t     \n",
       "-3⋅sin(4⋅t)⋅θ(t) + 5⋅ℯ    ⋅θ(t)"
      ]
     },
     "execution_count": 51,
     "metadata": {},
     "output_type": "execute_result"
    }
   ],
   "source": [
    "f = invL(F)\n",
    "f"
   ]
  },
  {
   "cell_type": "markdown",
   "id": "b88a0144",
   "metadata": {},
   "source": [
    "Aqui, o $\\theta(t)$ representa a função degrau unitário _Heaviside_."
   ]
  },
  {
   "cell_type": "code",
   "execution_count": 52,
   "id": "e3c4f5e7",
   "metadata": {},
   "outputs": [
    {
     "data": {
      "image/png": "[encoded data removed]",
      "text/plain": [
       "<Figure size 432x288 with 1 Axes>"
      ]
     },
     "metadata": {
      "needs_background": "light"
     },
     "output_type": "display_data"
    }
   ],
   "source": [
    "sympy.plot(sympy.Heaviside(t));"
   ]
  },
  {
   "cell_type": "code",
   "execution_count": null,
   "id": "d0091f94",
   "metadata": {},
   "outputs": [],
   "source": []
  },
  {
   "cell_type": "markdown",
   "id": "00615b3d",
   "metadata": {},
   "source": [
    "## Referências\n",
    "\n",
    "https://github.com/alchemyst/Dynamics-and-Control"
   ]
  },
  {
   "cell_type": "code",
   "execution_count": null,
   "id": "6c97ccb2",
   "metadata": {},
   "outputs": [],
   "source": []
  }
 ],
 "metadata": {
  "kernelspec": {
   "display_name": "Python 3",
   "language": "python",
   "name": "python3"
  },
  "language_info": {
   "codemirror_mode": {
    "name": "ipython",
    "version": 3
   },
   "file_extension": ".py",
   "mimetype": "text/x-python",
   "name": "python",
   "nbconvert_exporter": "python",
   "pygments_lexer": "ipython3",
   "version": "3.8.5"
  }
 },
 "nbformat": 4,
 "nbformat_minor": 5
}

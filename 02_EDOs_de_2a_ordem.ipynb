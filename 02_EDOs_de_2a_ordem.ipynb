{
 "cells": [
  {
   "cell_type": "markdown",
   "metadata": {},
   "source": [
    "## 2. EDOs lineares de 2ª ordem\n",
    "Uma boa razão para estudar equações lineares de segunda ordem é que elas são essenciais para qualquer investigação séria das áreas clássicas da Física-Matemática. Não se pode progredir muito no estudo de mecânica dos fluidos, condução de calor, movimento ondulatório ou fenômenos eletromagnéticos sem esbarrar na necessidade de resolver equações diferenciais lineares de segunda ordem. Vamos ilustrar isso mais a frente com uma discussão de oscilações de alguns sistemas mecânicos e elétricos básicos."
   ]
  },
  {
   "cell_type": "markdown",
   "metadata": {},
   "source": [
    "### 2.1 Equações diferenciais homogêneas com coeficientes constantes\n",
    "\n",
    "As equações diferenciais homogêneas com coeficientes constantes e de 2ª ordem são aquelas que podem ser escritas na forma \n",
    "\n",
    "$$ay''+by'+cy=0$$\n",
    "\n",
    "com $a$, $b$ e $c$ constantes.\n",
    "\n",
    "Sabemos que se a equação característica $ar^2+br+c=0$ possuir **duas raízes reais e distintas** $r_ 1$ e $r_2$, em que $r_1 \\neq r_2$, então  $y_1(t)=e^{r_1t}$ e $y_2(t)=e^{r_2t}$ são duas soluções da equação diferencial. Além disso, a combinação linear dessas duas soluções, ou seja, a função\n",
    "\n",
    "$$ y = c_1e^{r_1t} + c_2e^{r_2t}$$\n",
    "\n",
    "também é uma solução (confira!).   \n",
    "\n",
    "Se estivermos interessados em um elemento particular da família de soluções que satisfaz as condições iniciais \n",
    "\n",
    "$$y(t_0)=y_0 \\,\\,\\,\\, \\text{e}\\,\\,\\,\\, y'(t_0)=y'_0$$  \n",
    "\n",
    "então, substituimos na equação e podemos obter\n",
    "\n",
    "$$c_1=\\frac{y'_0-y_0r_2}{r_1-r_2}e^{-r_1t_0}\\,\\,\\,\\, \\text{e}\\,\\,\\,\\,c_2=\\frac{y_0r_1-y'_0}{r_1-r_2}e^{-r_2t_0}$$\n"
   ]
  },
  {
   "cell_type": "markdown",
   "metadata": {},
   "source": [
    "**Exemplo 1.15:** Encontre a solução do problema de valor inicial\n",
    "\n",
    "$$y''+5y'+6y=0  \\, \\text{,}\\,\\, y(0)=2 \\,\\, \\text{e}\\,\\, y'(0)=3$$ \n",
    "\n",
    "_Solução:_ \n",
    "\n",
    "As raízes de $r^2+5r+6=0$ são $r_1=-2$ e $r_2=-3$. Então a solução geral da equação é\n",
    "\n",
    "$$ y = c_1e^{-2t}+c_2e^{⁻3t}$$\n",
    "\n",
    "Aplicando a primeira condição inicial $y(0)=2$ obtemos $c_1+c_2=2$. \n",
    "\n",
    "Aplicando a segunda condição inicial $y'(0)=3$ obtemos $-2c_1-3c_2=3$.\n",
    "\n",
    "Resolvendo o sistema linear formado por essas duas equações obtemse $c_1=9$ e $c_2=-7$, então a solução particular é \n",
    "\n",
    "$$y=9e^{-2t}-7e^{-3t}$$\n",
    "\n",
    "Vejamos agora como usar as bibliotecas computacionais para obter essa solução."
   ]
  },
  {
   "cell_type": "code",
   "execution_count": 1,
   "metadata": {},
   "outputs": [],
   "source": [
    "import sympy as sym\n",
    "sym.init_printing()"
   ]
  },
  {
   "cell_type": "code",
   "execution_count": 2,
   "metadata": {},
   "outputs": [],
   "source": [
    "r, c1, c2 = sym.symbols('r, c1, c2')"
   ]
  },
  {
   "cell_type": "code",
   "execution_count": 3,
   "metadata": {},
   "outputs": [
    {
     "data": {
      "text/latex": [
       "$\\displaystyle \\left[ -3, \\  -2\\right]$"
      ],
      "text/plain": [
       "[-3, -2]"
      ]
     },
     "execution_count": 3,
     "metadata": {},
     "output_type": "execute_result"
    }
   ],
   "source": [
    "#resolvendo a equação característica \n",
    "sym.solve(r**2+5*r+6)"
   ]
  },
  {
   "cell_type": "code",
   "execution_count": 4,
   "metadata": {},
   "outputs": [
    {
     "data": {
      "text/latex": [
       "$\\displaystyle c_{1} e^{- 2 t} + c_{2} e^{- 3 t}$"
      ],
      "text/plain": [
       "    -2⋅t       -3⋅t\n",
       "c₁⋅ℯ     + c₂⋅ℯ    "
      ]
     },
     "execution_count": 4,
     "metadata": {},
     "output_type": "execute_result"
    }
   ],
   "source": [
    "#escrevendo a solução geral\n",
    "t = sym.symbols('t')\n",
    "y = sym.Function('y')(t)\n",
    "y = c1*sym.exp(-2*t)+c2*sym.exp(-3*t)\n",
    "y"
   ]
  },
  {
   "cell_type": "code",
   "execution_count": 5,
   "metadata": {},
   "outputs": [
    {
     "data": {
      "text/latex": [
       "$\\displaystyle 0$"
      ],
      "text/plain": [
       "0"
      ]
     },
     "execution_count": 5,
     "metadata": {},
     "output_type": "execute_result"
    }
   ],
   "source": [
    "# verificando a solução\n",
    "sym.simplify(y.diff(t,t)+ 5*y.diff(t)+6*y)"
   ]
  },
  {
   "cell_type": "code",
   "execution_count": 6,
   "metadata": {},
   "outputs": [],
   "source": [
    "dy = sym.lambdify(t, y.diff(t))\n",
    "y = sym.lambdify(t, y)"
   ]
  },
  {
   "cell_type": "code",
   "execution_count": 7,
   "metadata": {},
   "outputs": [
    {
     "data": {
      "text/latex": [
       "$\\displaystyle 1.0 c_{1} + 1.0 c_{2}$"
      ],
      "text/plain": [
       "1.0⋅c₁ + 1.0⋅c₂"
      ]
     },
     "execution_count": 7,
     "metadata": {},
     "output_type": "execute_result"
    }
   ],
   "source": [
    "y(0)"
   ]
  },
  {
   "cell_type": "code",
   "execution_count": 8,
   "metadata": {},
   "outputs": [
    {
     "data": {
      "text/latex": [
       "$\\displaystyle - 2.0 c_{1} - 3.0 c_{2}$"
      ],
      "text/plain": [
       "-2.0⋅c₁ - 3.0⋅c₂"
      ]
     },
     "execution_count": 8,
     "metadata": {},
     "output_type": "execute_result"
    }
   ],
   "source": [
    "dy(0)"
   ]
  },
  {
   "cell_type": "code",
   "execution_count": 9,
   "metadata": {},
   "outputs": [],
   "source": [
    "eq1 = sym.Eq(y(0),2)\n",
    "eq2 = sym.Eq(dy(0),3)"
   ]
  },
  {
   "cell_type": "code",
   "execution_count": 10,
   "metadata": {},
   "outputs": [
    {
     "data": {
      "text/latex": [
       "$\\displaystyle \\left\\{ c_{1} : 9.0, \\  c_{2} : -7.0\\right\\}$"
      ],
      "text/plain": [
       "{c₁: 9.0, c₂: -7.0}"
      ]
     },
     "execution_count": 10,
     "metadata": {},
     "output_type": "execute_result"
    }
   ],
   "source": [
    "C = sym.solve([eq1,eq2])\n",
    "C"
   ]
  },
  {
   "cell_type": "code",
   "execution_count": 11,
   "metadata": {},
   "outputs": [
    {
     "data": {
      "text/latex": [
       "$\\displaystyle 9.0 e^{- 2 t} - 7.0 e^{- 3 t}$"
      ],
      "text/plain": [
       "     -2⋅t        -3⋅t\n",
       "9.0⋅ℯ     - 7.0⋅ℯ    "
      ]
     },
     "execution_count": 11,
     "metadata": {},
     "output_type": "execute_result"
    }
   ],
   "source": [
    "s_part = C[c1]*sym.exp(-2*t)+C[c2]*sym.exp(-3*t)\n",
    "s_part"
   ]
  },
  {
   "cell_type": "markdown",
   "metadata": {},
   "source": [
    "O mesmo resultado poderia ser obtido fazendo simplesmente"
   ]
  },
  {
   "cell_type": "code",
   "execution_count": 12,
   "metadata": {},
   "outputs": [
    {
     "data": {
      "text/latex": [
       "$\\displaystyle y{\\left(t \\right)} = \\left(C_{1} + C_{2} e^{- t}\\right) e^{- 2 t}$"
      ],
      "text/plain": [
       "       ⎛         -t⎞  -2⋅t\n",
       "y(t) = ⎝C₁ + C₂⋅ℯ  ⎠⋅ℯ    "
      ]
     },
     "execution_count": 12,
     "metadata": {},
     "output_type": "execute_result"
    }
   ],
   "source": [
    "y = sym.Function('y')(t)\n",
    "eq = y.diff(t,t)+5*y.diff(t)+6*y\n",
    "sym.dsolve(eq, y)"
   ]
  },
  {
   "cell_type": "markdown",
   "metadata": {},
   "source": [
    "Para adicionar condições iniciais, podemos complementar o comando adicionando `ics={y(0): 2, y.diff(t).subs(t, 0): 3}` dentro do `dsolve`"
   ]
  },
  {
   "cell_type": "code",
   "execution_count": 13,
   "metadata": {},
   "outputs": [
    {
     "data": {
      "text/latex": [
       "$\\displaystyle y{\\left(t \\right)} = \\left(9 - 7 e^{- t}\\right) e^{- 2 t}$"
      ],
      "text/plain": [
       "       ⎛       -t⎞  -2⋅t\n",
       "y(t) = ⎝9 - 7⋅ℯ  ⎠⋅ℯ    "
      ]
     },
     "execution_count": 13,
     "metadata": {},
     "output_type": "execute_result"
    }
   ],
   "source": [
    "sol = sym.dsolve(eq, y, ics={y.subs(t, 0):2, y.diff(t).subs(t, 0): 3})\n",
    "sol"
   ]
  },
  {
   "cell_type": "markdown",
   "metadata": {},
   "source": [
    "Plotando a solução particular"
   ]
  },
  {
   "cell_type": "code",
   "execution_count": 14,
   "metadata": {},
   "outputs": [],
   "source": [
    "import numpy as np\n",
    "import matplotlib.pyplot as plt"
   ]
  },
  {
   "cell_type": "code",
   "execution_count": 15,
   "metadata": {},
   "outputs": [],
   "source": [
    "# sol.rhs é o lado direito da equação sol\n",
    "f = sym.lambdify(t,sol.rhs)"
   ]
  },
  {
   "cell_type": "code",
   "execution_count": 16,
   "metadata": {
    "scrolled": true
   },
   "outputs": [
    {
     "data": {
      "image/png": "[encoded data removed]",
      "text/plain": [
       "<Figure size 432x288 with 1 Axes>"
      ]
     },
     "metadata": {
      "needs_background": "light"
     },
     "output_type": "display_data"
    }
   ],
   "source": [
    "t = np.linspace(0,2)\n",
    "plt.plot(t, f(t))\n",
    "plt.grid()\n",
    "plt.show()"
   ]
  },
  {
   "cell_type": "markdown",
   "metadata": {},
   "source": [
    "**Curiosidade:** O que acontece se eu plotar várias cuvas para várias soluções?"
   ]
  },
  {
   "cell_type": "code",
   "execution_count": 17,
   "metadata": {},
   "outputs": [
    {
     "data": {
      "image/png": "[encoded data removed]",
      "text/plain": [
       "<Figure size 432x288 with 1 Axes>"
      ]
     },
     "metadata": {
      "needs_background": "light"
     },
     "output_type": "display_data"
    }
   ],
   "source": [
    "f = lambda t,c1,c2: (c1-c2*np.exp(-t))*np.exp(-2*t)\n",
    "for c1 in np.arange(6,10):\n",
    "    for c2 in np.arange(5,12):\n",
    "        plt.plot(t, f(t,c1,c2),'b-',lw=0.5)\n",
    "plt.grid()\n",
    "plt.show()"
   ]
  },
  {
   "cell_type": "markdown",
   "metadata": {},
   "source": [
    "**Exercícios:**\n",
    "(Boyce, p75)"
   ]
  },
  {
   "cell_type": "code",
   "execution_count": 18,
   "metadata": {},
   "outputs": [
    {
     "data": {
      "text/latex": [
       "$\\displaystyle q{\\left(x \\right)} = \\frac{C_{1}}{x} + C_{2} x$"
      ],
      "text/plain": [
       "       C₁       \n",
       "q(x) = ── + C₂⋅x\n",
       "       x        "
      ]
     },
     "execution_count": 18,
     "metadata": {},
     "output_type": "execute_result"
    }
   ],
   "source": [
    "x = sym.symbols('x')\n",
    "q = sym.symbols('q', cls=sym.Function)\n",
    "eq = x**2*q(x).diff(x,x) + x*q(x).diff(x) - q(x)\n",
    "sym.dsolve(eq, q(x))"
   ]
  },
  {
   "cell_type": "markdown",
   "metadata": {},
   "source": [
    "**Exercício:**\n",
    "1. (a) Encontre a solução do problema de valor inicial $4y\"-8y'+3y=0$, $y(0)=2$, $y'(0)=1/2.$ _(Solução: Boyce, p74, exemplo 4)_ (b)Encontre as coordenadas do ponto de máximo da solução do exercício 1. _(Solução: Boyce, p74, exemplo 5)_\n"
   ]
  },
  {
   "cell_type": "markdown",
   "metadata": {},
   "source": [
    "Se a equação característica $ar^2+br+c=0$ possuir **raízes complexas conjugadas** $r_ 1 = \\lambda + i\\mu$ e $r_2 = \\lambda - i\\mu$, então a solução geral da equação diferencial é a função\n",
    "\n",
    "\n",
    "$$ y = c_1 e^{\\lambda t} cos(\\mu t)+c_2 e^{\\lambda t} sen(\\mu t)$$"
   ]
  },
  {
   "cell_type": "markdown",
   "metadata": {},
   "source": [
    "**Exemplo:** Encontre a solução do problema de valor inicial $16y\"-8y'+145y=0$, $y(0)=-2$ e $y'(0)=1$."
   ]
  },
  {
   "cell_type": "code",
   "execution_count": 19,
   "metadata": {},
   "outputs": [
    {
     "data": {
      "text/latex": [
       "$\\displaystyle y{\\left(t \\right)} = \\left(C_{1} \\sin{\\left(3 t \\right)} + C_{2} \\cos{\\left(3 t \\right)}\\right) e^{\\frac{t}{4}}$"
      ],
      "text/plain": [
       "                                    t\n",
       "                                    ─\n",
       "                                    4\n",
       "y(t) = (C₁⋅sin(3⋅t) + C₂⋅cos(3⋅t))⋅ℯ "
      ]
     },
     "execution_count": 19,
     "metadata": {},
     "output_type": "execute_result"
    }
   ],
   "source": [
    "t = sym.symbols('t')\n",
    "y = sym.Function('y')(t)\n",
    "eq = 16*y.diff(t,t)-8*y.diff(t)+145*y\n",
    "sol_g = sym.dsolve(eq, y)\n",
    "sol_g"
   ]
  },
  {
   "cell_type": "code",
   "execution_count": 20,
   "metadata": {},
   "outputs": [
    {
     "data": {
      "text/latex": [
       "$\\displaystyle y{\\left(t \\right)} = \\left(\\frac{\\sin{\\left(3 t \\right)}}{2} - 2 \\cos{\\left(3 t \\right)}\\right) e^{\\frac{t}{4}}$"
      ],
      "text/plain": [
       "                                t\n",
       "                                ─\n",
       "       ⎛sin(3⋅t)             ⎞  4\n",
       "y(t) = ⎜──────── - 2⋅cos(3⋅t)⎟⋅ℯ \n",
       "       ⎝   2                 ⎠   "
      ]
     },
     "execution_count": 20,
     "metadata": {},
     "output_type": "execute_result"
    }
   ],
   "source": [
    "sol_p = sym.dsolve(eq, y, ics={y.subs(t, 0):-2, y.diff(t).subs(t, 0): 1})\n",
    "sol_p"
   ]
  },
  {
   "cell_type": "code",
   "execution_count": 21,
   "metadata": {},
   "outputs": [
    {
     "data": {
      "image/png": "[encoded data removed]",
      "text/plain": [
       "<Figure size 432x288 with 1 Axes>"
      ]
     },
     "metadata": {
      "needs_background": "light"
     },
     "output_type": "display_data"
    }
   ],
   "source": [
    "f = sym.lambdify(t,sol_p.rhs)\n",
    "t = np.linspace(0,10,100)\n",
    "plt.plot(t, f(t))\n",
    "plt.grid()\n",
    "plt.show()"
   ]
  },
  {
   "cell_type": "code",
   "execution_count": 22,
   "metadata": {},
   "outputs": [
    {
     "name": "stdout",
     "output_type": "stream",
     "text": [
      "(C1*sin(3*t) + C2*cos(3*t))*exp(t/4)\n"
     ]
    }
   ],
   "source": [
    "print(sol_g.rhs)"
   ]
  },
  {
   "cell_type": "code",
   "execution_count": 23,
   "metadata": {},
   "outputs": [
    {
     "data": {
      "image/png": "[encoded data removed]",
      "text/plain": [
       "<Figure size 432x288 with 1 Axes>"
      ]
     },
     "metadata": {
      "needs_background": "light"
     },
     "output_type": "display_data"
    }
   ],
   "source": [
    "sols = lambda t,c1,c2: (c1*np.sin(3*t) + c2*np.cos(3*t))*np.exp(t/4)\n",
    "t = np.linspace(0,4,100)\n",
    "\n",
    "for c1 in range(0,100,20):\n",
    "    plt.plot(t, sols(t, c1,c2), 'b-', lw=0.5)\n",
    "    for c2 in range(0,100,20):\n",
    "        plt.plot(t, sols(t, c1,c2), 'r:', lw=0.5)\n",
    "plt.grid()\n",
    "plt.show()"
   ]
  },
  {
   "cell_type": "markdown",
   "metadata": {},
   "source": [
    "**Exemplo:** Encontre a solução do problema de valor inicial $y\"+9y'=0$."
   ]
  },
  {
   "cell_type": "code",
   "execution_count": 24,
   "metadata": {},
   "outputs": [
    {
     "data": {
      "text/latex": [
       "$\\displaystyle y{\\left(t \\right)} = C_{1} \\sin{\\left(3 t \\right)} + C_{2} \\cos{\\left(3 t \\right)}$"
      ],
      "text/plain": [
       "y(t) = C₁⋅sin(3⋅t) + C₂⋅cos(3⋅t)"
      ]
     },
     "execution_count": 24,
     "metadata": {},
     "output_type": "execute_result"
    }
   ],
   "source": [
    "t = sym.symbols('t')\n",
    "y = sym.Function('y')(t)\n",
    "eq = y.diff(t,t)+9*y\n",
    "sol_g = sym.dsolve(eq, y)\n",
    "sol_g"
   ]
  },
  {
   "cell_type": "code",
   "execution_count": 25,
   "metadata": {},
   "outputs": [
    {
     "name": "stdout",
     "output_type": "stream",
     "text": [
      "C1*sin(3*t) + C2*cos(3*t)\n"
     ]
    }
   ],
   "source": [
    "print(sol_g.rhs)"
   ]
  },
  {
   "cell_type": "code",
   "execution_count": 26,
   "metadata": {},
   "outputs": [
    {
     "data": {
      "image/png": "[encoded data removed]",
      "text/plain": [
       "<Figure size 432x288 with 1 Axes>"
      ]
     },
     "metadata": {
      "needs_background": "light"
     },
     "output_type": "display_data"
    }
   ],
   "source": [
    "sols = lambda t,C1,C2: C1*np.sin(3*t) + C2*np.cos(3*t)\n",
    "t = np.linspace(0,4,100)\n",
    "\n",
    "for c1 in range(0,100,20):\n",
    "    plt.plot(t, sols(t, c1,c2), 'b-', lw=0.5)\n",
    "    for c2 in range(0,100,20):\n",
    "        plt.plot(t, sols(t, c1,c2), 'r:', lw=0.5)\n",
    "plt.grid()\n",
    "plt.show()"
   ]
  },
  {
   "cell_type": "markdown",
   "metadata": {},
   "source": [
    "Por fim, se a equação característica $ar^2+br+c=0$ possuir **raízes iguais** $r_1 = r_2$, então a solução geralé dada por \n",
    "\n",
    "$$ y = c_1e^{r_1t}+c_2 t e^{r_2t}$$"
   ]
  },
  {
   "cell_type": "markdown",
   "metadata": {},
   "source": [
    "**Exemplo:**\n",
    "Encontre a solução do problema de valor inicial $y\"-y'+0.25y=0$, $y(0)=2$ e $y'(0)=1/3$."
   ]
  },
  {
   "cell_type": "code",
   "execution_count": 27,
   "metadata": {},
   "outputs": [
    {
     "data": {
      "text/latex": [
       "$\\displaystyle y{\\left(t \\right)} = C_{1} e^{0.499999999999937 t} + C_{2} e^{0.500000000000057 t}$"
      ],
      "text/plain": [
       "           0.499999999999937⋅t       0.500000000000057⋅t\n",
       "y(t) = C₁⋅ℯ                    + C₂⋅ℯ                   "
      ]
     },
     "execution_count": 27,
     "metadata": {},
     "output_type": "execute_result"
    }
   ],
   "source": [
    "t = sym.symbols('t')\n",
    "y = sym.Function('y')(t)\n",
    "eq = y.diff(t,t)-y.diff(t)+0.25*y\n",
    "sym.dsolve(eq, y)\n"
   ]
  },
  {
   "cell_type": "markdown",
   "metadata": {},
   "source": [
    "Ops! Aqui parece que algo não deu certo, o que será??? "
   ]
  },
  {
   "cell_type": "code",
   "execution_count": 28,
   "metadata": {},
   "outputs": [
    {
     "data": {
      "text/latex": [
       "$\\displaystyle \\left[ 0.5\\right]$"
      ],
      "text/plain": [
       "[0.5]"
      ]
     },
     "execution_count": 28,
     "metadata": {},
     "output_type": "execute_result"
    }
   ],
   "source": [
    "#resolvendo a equação característica \n",
    "sym.solve(r**2-r+0.25)"
   ]
  },
  {
   "cell_type": "markdown",
   "metadata": {},
   "source": [
    "Raízes iguais!!! A solução geral é $y(t) = C_1 e^{0.5t} + C_2te^{0.5t}$"
   ]
  },
  {
   "cell_type": "markdown",
   "metadata": {},
   "source": [
    "A solução geral para equações não homogêneas $ay\"+by'+cy=g(t)$ obtida pelo **método dos coeficientes indeterminados** tem a forma $y(t)=c_1y_1(t)+c_2y_2(t)+Y(t)$ onde $y_1$ e $y_2$ são as soluções da equação homogênea associada e $Y(t)$ é alguma solução específica da equação não homogênea. \n",
    "\n",
    "A função $Y(t)$ pode ser encontrada calculando coeficientes de uma combinação linear de funções exponenciais, seno, cosseno, polinômios, somas ou produtos dessas funções dependendo da forma da  função $g(t)$. \n",
    "\n",
    "Os exemplos a seguir dão um panorama de como proceder para obter uma solução geral.\n",
    "\n"
   ]
  },
  {
   "cell_type": "markdown",
   "metadata": {},
   "source": [
    "**Exemplo 1:** Encontre uma solução particular $Y(t)$ para $y\"-3y'-4y=3e^{2t}$. Então escreva a solução geral."
   ]
  },
  {
   "cell_type": "markdown",
   "metadata": {},
   "source": [
    "Fazendo $Y(t)=Ae^{2t}$ derivando e substituindo no lado esquerdo da equação, temos:"
   ]
  },
  {
   "cell_type": "code",
   "execution_count": 29,
   "metadata": {},
   "outputs": [
    {
     "data": {
      "text/latex": [
       "$\\displaystyle - 6 A e^{2 t}$"
      ],
      "text/plain": [
       "      2⋅t\n",
       "-6⋅A⋅ℯ   "
      ]
     },
     "execution_count": 29,
     "metadata": {},
     "output_type": "execute_result"
    }
   ],
   "source": [
    "A = sym.symbols('A')\n",
    "Y = sym.Function('Y')(t)\n",
    "Y = A*sym.exp(2*t) \n",
    "expr = Y.diff(t,t)-3*Y.diff(t)-4*Y\n",
    "expr"
   ]
  },
  {
   "cell_type": "markdown",
   "metadata": {},
   "source": [
    "Igualando com o lado direito da equação, ou sejan fazendo $-6Ae^{2t} = 3e^{2t}$ tem-se que $A=-1/2$, portanto $Y(t) = -\\frac{1}{2}e^{2t}$. Resolvendo a equação característica:"
   ]
  },
  {
   "cell_type": "code",
   "execution_count": 30,
   "metadata": {},
   "outputs": [
    {
     "data": {
      "text/latex": [
       "$\\displaystyle \\left[ -1, \\  4\\right]$"
      ],
      "text/plain": [
       "[-1, 4]"
      ]
     },
     "execution_count": 30,
     "metadata": {},
     "output_type": "execute_result"
    }
   ],
   "source": [
    "r = sym.symbols('r')\n",
    "sym.solve(r**2-3*r-4)"
   ]
  },
  {
   "cell_type": "markdown",
   "metadata": {},
   "source": [
    "Escrevemos a solução geral como $y(t) = C_1e^{-t}+C_2e^{4t}-\\frac{1}{2}e^{2t}$. Podemos confirmar a solução obtida usando os comandos abaixo:\n"
   ]
  },
  {
   "cell_type": "code",
   "execution_count": 31,
   "metadata": {},
   "outputs": [
    {
     "data": {
      "text/latex": [
       "$\\displaystyle y{\\left(t \\right)} = C_{1} e^{- t} + C_{2} e^{4 t} - \\frac{e^{2 t}}{2}$"
      ],
      "text/plain": [
       "                           2⋅t\n",
       "           -t       4⋅t   ℯ   \n",
       "y(t) = C₁⋅ℯ   + C₂⋅ℯ    - ────\n",
       "                           2  "
      ]
     },
     "execution_count": 31,
     "metadata": {},
     "output_type": "execute_result"
    }
   ],
   "source": [
    "eq = y.diff(t,t)-3*y.diff(t)-4*y-3*sym.exp(2*t)\n",
    "sym.dsolve(eq, y)"
   ]
  },
  {
   "cell_type": "markdown",
   "metadata": {},
   "source": [
    "**Exemplo 2:** Encontre uma solução particular $Y(t)$ para $y\"-3y'-4y=2sen(t)$. Então escreva a solução geral."
   ]
  },
  {
   "cell_type": "markdown",
   "metadata": {},
   "source": [
    "Fazendo $Y(t)=Asen(t) + Bcos(t)$ derivando e substituindo no lado esquerdo da equação, temos:"
   ]
  },
  {
   "cell_type": "code",
   "execution_count": 32,
   "metadata": {},
   "outputs": [
    {
     "data": {
      "text/latex": [
       "$\\displaystyle - 4 A \\sin{\\left(t \\right)} - 3 A \\cos{\\left(t \\right)} + 3 B \\sin{\\left(t \\right)} - 4 B \\cos{\\left(t \\right)} - \\left(A \\sin{\\left(t \\right)} + B \\cos{\\left(t \\right)}\\right)$"
      ],
      "text/plain": [
       "-4⋅A⋅sin(t) - 3⋅A⋅cos(t) + 3⋅B⋅sin(t) - 4⋅B⋅cos(t) - (A⋅sin(t) + B⋅cos(t))"
      ]
     },
     "execution_count": 32,
     "metadata": {},
     "output_type": "execute_result"
    }
   ],
   "source": [
    "A, B = sym.symbols('A, B')\n",
    "Y = sym.Function('Y')(t)\n",
    "Y = A*sym.sin(t) + B*sym.cos(t)\n",
    "expr = Y.diff(t,t)-3*Y.diff(t)-4*Y\n",
    "expr"
   ]
  },
  {
   "cell_type": "markdown",
   "metadata": {},
   "source": [
    "Fatorando para colocar $cos(t)$ e $sen(t)$ em evidência"
   ]
  },
  {
   "cell_type": "code",
   "execution_count": 33,
   "metadata": {},
   "outputs": [
    {
     "data": {
      "text/latex": [
       "$\\displaystyle - \\left(3 A + 5 B\\right) \\cos{\\left(t \\right)} - \\left(5 A - 3 B\\right) \\sin{\\left(t \\right)}$"
      ],
      "text/plain": [
       "-(3⋅A + 5⋅B)⋅cos(t) - (5⋅A - 3⋅B)⋅sin(t)"
      ]
     },
     "execution_count": 33,
     "metadata": {},
     "output_type": "execute_result"
    }
   ],
   "source": [
    "fact = sym.factor(expr, [sym.cos(t), sym.sin(t)])\n",
    "fact"
   ]
  },
  {
   "cell_type": "code",
   "execution_count": 34,
   "metadata": {},
   "outputs": [],
   "source": [
    "eq1 = sym.Eq(-3*A-5*B, 0)\n",
    "eq2 = sym.Eq(-5*A+3*B, 2)"
   ]
  },
  {
   "cell_type": "code",
   "execution_count": 35,
   "metadata": {},
   "outputs": [
    {
     "data": {
      "text/latex": [
       "$\\displaystyle \\left\\{ A : - \\frac{5}{17}, \\  B : \\frac{3}{17}\\right\\}$"
      ],
      "text/plain": [
       "{A: -5/17, B: 3/17}"
      ]
     },
     "execution_count": 35,
     "metadata": {},
     "output_type": "execute_result"
    }
   ],
   "source": [
    "sym.solve([eq1,eq2])"
   ]
  },
  {
   "cell_type": "markdown",
   "metadata": {},
   "source": [
    "Escrevemos a solução geral como $y(t) = C_1e^{-t}+C_2e^{4t}-\\frac{5}{17}sen(t)+\\frac{3}{17}cos(t)$. Podemos confirmar a solução obtida usando os comandos abaixo:"
   ]
  },
  {
   "cell_type": "code",
   "execution_count": 36,
   "metadata": {},
   "outputs": [
    {
     "data": {
      "text/latex": [
       "$\\displaystyle y{\\left(t \\right)} = C_{1} e^{- t} + C_{2} e^{4 t} - \\frac{5 \\sin{\\left(t \\right)}}{17} + \\frac{3 \\cos{\\left(t \\right)}}{17}$"
      ],
      "text/plain": [
       "           -t       4⋅t   5⋅sin(t)   3⋅cos(t)\n",
       "y(t) = C₁⋅ℯ   + C₂⋅ℯ    - ──────── + ────────\n",
       "                             17         17   "
      ]
     },
     "execution_count": 36,
     "metadata": {},
     "output_type": "execute_result"
    }
   ],
   "source": [
    "eq = y.diff(t,t)-3*y.diff(t)-4*y-2*sym.sin(t)\n",
    "sym.dsolve(eq, y)"
   ]
  },
  {
   "cell_type": "markdown",
   "metadata": {},
   "source": [
    "**Exemplo 3:** Use o método dos coeficientes indeterminados para encontrar uma solução particular $Y(t)$ para $y\"-3y'-4y=-8e^tcos(2t)$. Então escreva a solução geral."
   ]
  },
  {
   "cell_type": "code",
   "execution_count": 37,
   "metadata": {},
   "outputs": [
    {
     "data": {
      "text/latex": [
       "$\\displaystyle y{\\left(t \\right)} = C_{1} e^{- t} + C_{2} e^{4 t} + \\frac{2 \\left(- \\sin{\\left(2 t \\right)} - 5 \\cos{\\left(2 t \\right)}\\right) e^{t}}{13}$"
      ],
      "text/plain": [
       "                                                      t\n",
       "           -t       4⋅t   2⋅(-sin(2⋅t) - 5⋅cos(2⋅t))⋅ℯ \n",
       "y(t) = C₁⋅ℯ   + C₂⋅ℯ    + ─────────────────────────────\n",
       "                                        13             "
      ]
     },
     "execution_count": 37,
     "metadata": {},
     "output_type": "execute_result"
    }
   ],
   "source": [
    "# A resposta procurada é dada por \n",
    "eq = y.diff(t,t)-3*y.diff(t)-4*y-8*sym.exp(t)*sym.cos(2*t)\n",
    "sym.dsolve(eq, y)"
   ]
  },
  {
   "cell_type": "markdown",
   "metadata": {},
   "source": [
    "**Exemplo 4:** Use o método dos coeficientes indeterminados para encontrar uma solução particular $Y(t)$ para $y\"-3y'-4y=3e^{2t}+2sen(t)-8e^tcos(2t)$. Então escreva a solução geral."
   ]
  },
  {
   "cell_type": "code",
   "execution_count": 38,
   "metadata": {},
   "outputs": [
    {
     "data": {
      "text/latex": [
       "$\\displaystyle y{\\left(t \\right)} = C_{1} e^{- t} + C_{2} e^{4 t} + \\frac{2 \\left(- \\sin{\\left(2 t \\right)} - 5 \\cos{\\left(2 t \\right)}\\right) e^{t}}{13} - \\frac{e^{2 t}}{2} + \\frac{5 \\sin{\\left(t \\right)}}{17} - \\frac{3 \\cos{\\left(t \\right)}}{17}$"
      ],
      "text/plain": [
       "                                                      t    2⋅t                \n",
       "           -t       4⋅t   2⋅(-sin(2⋅t) - 5⋅cos(2⋅t))⋅ℯ    ℯ      5⋅sin(t)   3⋅\n",
       "y(t) = C₁⋅ℯ   + C₂⋅ℯ    + ───────────────────────────── - ──── + ──────── - ──\n",
       "                                        13                 2        17        \n",
       "\n",
       "      \n",
       "cos(t)\n",
       "──────\n",
       " 17   "
      ]
     },
     "execution_count": 38,
     "metadata": {},
     "output_type": "execute_result"
    }
   ],
   "source": [
    "# A resposta procurada é dada por \n",
    "eq = y.diff(t,t)-3*y.diff(t)-4*y-3*sym.exp(2*t)+2*sym.sin(t)-8*sym.exp(t)*sym.cos(2*t)\n",
    "sym.dsolve(eq, y)"
   ]
  },
  {
   "cell_type": "markdown",
   "metadata": {},
   "source": [
    "Pelo **método da variação dos parâmetros**, se as funções $p$, $q$ e $g$ forem contínuas num intervalo aberto $I$ e se as funções $y_ 1$ e $y_2$ formarem um conjunto fundamental de soluções da equação homogênea associada à equação $y\"+p(t)y'+q(t)y=g(t)$, então, uma solução particular é \n",
    "\n",
    "$$ Y(t) = -y_1(t) \\int_{t_0}^t \\frac{y_2(s)g(s)}{W(y_1,y_2)(s)}ds + y_2(t) \\int_{t_0}^t \\frac{y_1(s)g(s)}{W(y_1,y_2)(s)}ds$$\n",
    "\n",
    "onde $t_0$ é qualquer ponto escolhido convenientemente em $I$ e $W$ é o Wronskiano \n",
    "\n",
    "$$ W = \n",
    "\\left| \n",
    "\\begin{array}{cc}\n",
    "y_1(s) & y_2(s)   \\\\ \n",
    "y'_1(s)& y'_2(s)   \\\\\n",
    "\\end{array} \n",
    "\\right| = \n",
    "y_1(s)y'_2(s) - y'_1(s)y_2(s)$$\n",
    "\n",
    "A solução geral será \n",
    "\n",
    "$$y = c_1y_1(t)+c_2y_2(t)+Y(t)$$\n"
   ]
  },
  {
   "cell_type": "markdown",
   "metadata": {},
   "source": [
    "**Exemplo:**  Use o método da variação dos parâmetros para solucionar $y\"-5y'+6y=2e^t$. Então escreva a solução geral."
   ]
  },
  {
   "cell_type": "code",
   "execution_count": 39,
   "metadata": {},
   "outputs": [
    {
     "data": {
      "text/latex": [
       "$\\displaystyle \\left[ 2, \\  3\\right]$"
      ],
      "text/plain": [
       "[2, 3]"
      ]
     },
     "execution_count": 39,
     "metadata": {},
     "output_type": "execute_result"
    }
   ],
   "source": [
    "# raízes da equação característica\n",
    "r = sym.symbols('r')\n",
    "sym.solve(r**2 - 5*r + 6)"
   ]
  },
  {
   "cell_type": "code",
   "execution_count": 40,
   "metadata": {},
   "outputs": [
    {
     "data": {
      "text/latex": [
       "$\\displaystyle e^{5 s}$"
      ],
      "text/plain": [
       " 5⋅s\n",
       "ℯ   "
      ]
     },
     "execution_count": 40,
     "metadata": {},
     "output_type": "execute_result"
    }
   ],
   "source": [
    "# calculando o Wronskiano\n",
    "s = sym.symbols('s')\n",
    "w = sym.wronskian([sym.exp(2*s), sym.exp(3*s)], s, method='bareiss')\n",
    "w"
   ]
  },
  {
   "cell_type": "code",
   "execution_count": 41,
   "metadata": {},
   "outputs": [
    {
     "data": {
      "text/latex": [
       "$\\displaystyle 2 - 2 e^{- t}$"
      ],
      "text/plain": [
       "       -t\n",
       "2 - 2⋅ℯ  "
      ]
     },
     "execution_count": 41,
     "metadata": {},
     "output_type": "execute_result"
    }
   ],
   "source": [
    "# calculando as integrais\n",
    "y1 = sym.exp(2*s)\n",
    "y2 = sym.exp(3*s)\n",
    "g = 2*sym.exp(s)\n",
    "\n",
    "I1 = sym.integrate( y2*g/w, (s,0,t))\n",
    "I1"
   ]
  },
  {
   "cell_type": "code",
   "execution_count": 42,
   "metadata": {},
   "outputs": [
    {
     "data": {
      "text/latex": [
       "$\\displaystyle 1 - e^{- 2 t}$"
      ],
      "text/plain": [
       "     -2⋅t\n",
       "1 - ℯ    "
      ]
     },
     "execution_count": 42,
     "metadata": {},
     "output_type": "execute_result"
    }
   ],
   "source": [
    "I2 = sym.integrate( y1*g/w, (s,0,t))\n",
    "I2"
   ]
  },
  {
   "cell_type": "code",
   "execution_count": 43,
   "metadata": {},
   "outputs": [
    {
     "data": {
      "text/latex": [
       "$\\displaystyle y{\\left(t \\right)} = c_{1} e^{2 t} + c_{2} e^{3 t} - 2 e^{3 t} + 3 e^{2 t} - 1$"
      ],
      "text/plain": [
       "           2⋅t       3⋅t      3⋅t      2⋅t    \n",
       "y(t) = c₁⋅ℯ    + c₂⋅ℯ    - 2⋅ℯ    + 3⋅ℯ    - 1"
      ]
     },
     "execution_count": 43,
     "metadata": {},
     "output_type": "execute_result"
    }
   ],
   "source": [
    "# Escrevendo a equação geral\n",
    "C1, C2 = sym.symbols('c_1 c_2')\n",
    "y1 = sym.exp(2*t)\n",
    "y2 = sym.exp(3*t)\n",
    "g = 2*sym.exp(t)\n",
    "Y = -y2*I1+y1*I2\n",
    "sym.simplify(sym.Eq(y, C1*y1+C2*y2 + Y))\n"
   ]
  },
  {
   "cell_type": "markdown",
   "metadata": {},
   "source": [
    "Fazendo "
   ]
  },
  {
   "cell_type": "markdown",
   "metadata": {},
   "source": [
    "O mesmo pode ser obtido fazendo"
   ]
  },
  {
   "cell_type": "code",
   "execution_count": 44,
   "metadata": {},
   "outputs": [
    {
     "data": {
      "text/latex": [
       "$\\displaystyle y{\\left(t \\right)} = \\left(C_{1} e^{t} + C_{2} e^{2 t} + 1\\right) e^{t}$"
      ],
      "text/plain": [
       "       ⎛    t       2⋅t    ⎞  t\n",
       "y(t) = ⎝C₁⋅ℯ  + C₂⋅ℯ    + 1⎠⋅ℯ "
      ]
     },
     "execution_count": 44,
     "metadata": {},
     "output_type": "execute_result"
    }
   ],
   "source": [
    "t = sym.symbols('t')\n",
    "y = sym.Function('y')(t)\n",
    "eq = y.diff(t,t)-5*y.diff(t)+6*y-2*sym.exp(t)\n",
    "sym.dsolve(eq, y)"
   ]
  },
  {
   "cell_type": "markdown",
   "metadata": {},
   "source": [
    "**Referências**\n",
    "\n",
    "BOYCE, William E. Equações Diferenciais Elementares e Problemas de Valores de Contorno. Grupo GEN, 2020. E-book. ISBN 9788521637134. Disponível em: https://integrada.minhabiblioteca.com.br/#/books/9788521637134/. Acesso em: 19 mar. 2023.\n",
    "\n",
    "KONG, Qingkai; SIAUW, Timmy; BAYEN, Alexandre M. Python Programming and Numerical Methods: A Guide For Engineers And Scientists. ed 1, Academic Press, 2021. DOI: https://doi.org/10.1016/C2018-0-04165-1. Disponível em:\n",
    "https://pythonnumericalmethods.berkeley.edu/notebooks/Index.html. Acesso em: 23 mar. 2023\n",
    "\n",
    "\n",
    "LANGTANGEN, Hans Pette. A Primer on Scientific Programming with Python. Texts in Computational Science and Engineering. Springer Berlin, Heidelberg, ed 5, 2016. DOI: https://doi.org/10.1007/978-3-662-49887-3. Acesso em: 21 mar. 2023.\n",
    "\n",
    "LEBL, Jiří. Differential Equations for Engineers. Amazon KDP edition, 2022. ISBN-13: 978-1-70623-023-6. Disponível em \n",
    "https://www.jirka.org/diffyqs/html/intfactor_section.html. Acesso em: 21 mar. 2023.\n",
    "\n",
    "LYNCH, Stephen. Dynamical Systems with Applications Using Python. Birkhauser, 2018. http://www.doc.mmu.ac.uk/STAFF/S.Lynch/DSAP_Jupyter_Notebook.html\n",
    "\n",
    "MARTINS, Ricardo Miranda. Tutorial rápido de Python para Matemáticos. IME-Unicamp, 2022. Disponível em: http://www.ime.unicamp.br/~rmiranda/code/python/python.html#Equa%C3%A7%C3%B5es-lineares-de-primeira-e-segunda-ordens. Acesso em: 21 mar. 2023.\n",
    "\n",
    "https://www.sympy.org/scipy-2017-codegen-tutorial/notebooks/20-ordinary-differential-equations.html\n"
   ]
  },
  {
   "cell_type": "code",
   "execution_count": null,
   "metadata": {},
   "outputs": [],
   "source": []
  },
  {
   "cell_type": "code",
   "execution_count": null,
   "metadata": {},
   "outputs": [],
   "source": []
  }
 ],
 "metadata": {
  "kernelspec": {
   "display_name": "Python 3",
   "language": "python",
   "name": "python3"
  },
  "language_info": {
   "codemirror_mode": {
    "name": "ipython",
    "version": 3
   },
   "file_extension": ".py",
   "mimetype": "text/x-python",
   "name": "python",
   "nbconvert_exporter": "python",
   "pygments_lexer": "ipython3",
   "version": "3.8.5"
  }
 },
 "nbformat": 4,
 "nbformat_minor": 4
}

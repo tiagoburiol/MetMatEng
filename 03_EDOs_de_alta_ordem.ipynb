{
 "cells": [
  {
   "cell_type": "markdown",
   "id": "3ca91008",
   "metadata": {},
   "source": [
    "# 3. EDOs lineares de alta ordem\n",
    "\n",
    "A estrutura teórica e os métodos de resolução desenvolvidos para equações lineares de segunda ordem podem ser estendidos, diretamente, para equações lineares de terceira ordem e de ordem mais alta. \n",
    "\n",
    "Considere a equação diferencial linear homogênea de ordem $n$\n",
    "\n",
    "$$a_0y^{(n)}+a_1y^{(n-1)}+...+a_{n-1}y'+a_n=0$$\n",
    "\n",
    "a solução é obtida a partir das raízes da equação característica \n",
    "\n",
    "$$a_0r^{n}+a_1r^{n-1}+...+a_{n-1}r+a_n=0,$$\n",
    "\n",
    "Vejamos alguns exemplos."
   ]
  },
  {
   "cell_type": "markdown",
   "id": "c52283a2",
   "metadata": {},
   "source": [
    "**Exemplo 1 (Raízes reais e distintas):** Encontre a solução de\n",
    "\n",
    "$$y^{(4)}+y'''-7y''-y'+6=0$$ \n",
    "\n",
    "com $y(0)=1$, $y'(0)=0$, $y''(0)=-2$ e $y'''(0)=-1$ e plote o gráfico."
   ]
  },
  {
   "cell_type": "code",
   "execution_count": 178,
   "id": "a5c0230f",
   "metadata": {},
   "outputs": [],
   "source": [
    "import sympy as sym\n",
    "sym.init_printing()"
   ]
  },
  {
   "cell_type": "code",
   "execution_count": 179,
   "id": "2acac8e8",
   "metadata": {},
   "outputs": [
    {
     "data": {
      "text/latex": [
       "$\\displaystyle \\left[ -3, \\  -1, \\  1, \\  2\\right]$"
      ],
      "text/plain": [
       "[-3, -1, 1, 2]"
      ]
     },
     "execution_count": 179,
     "metadata": {},
     "output_type": "execute_result"
    }
   ],
   "source": [
    "#resolvendo a equação característica \n",
    "r, c1, c2, c3, c4 = sym.symbols('r, c1, c2, c3, c4')\n",
    "sym.solve(r**4+r**3-7*r**2-r+6)          "
   ]
  },
  {
   "cell_type": "code",
   "execution_count": 180,
   "id": "b538bd2e",
   "metadata": {},
   "outputs": [
    {
     "data": {
      "text/latex": [
       "$\\displaystyle c_{1} e^{t} + c_{2} e^{- t} + c_{3} e^{2 t} + c_{4} e^{- 3 t}$"
      ],
      "text/plain": [
       "    t       -t       2⋅t       -3⋅t\n",
       "c₁⋅ℯ  + c₂⋅ℯ   + c₃⋅ℯ    + c₄⋅ℯ    "
      ]
     },
     "execution_count": 180,
     "metadata": {},
     "output_type": "execute_result"
    }
   ],
   "source": [
    "#escrevendo a solução geral\n",
    "t = sym.symbols('t')\n",
    "y = sym.Function('y')(t)\n",
    "y = c1*sym.exp(t)+c2*sym.exp(-t)+c3*sym.exp(2*t)+c4*sym.exp(-3*t)\n",
    "y"
   ]
  },
  {
   "cell_type": "code",
   "execution_count": 181,
   "id": "a631bc90",
   "metadata": {},
   "outputs": [],
   "source": [
    "# derivando a solução\n",
    "dy = sym.lambdify(t, y.diff(t))\n",
    "d2y = sym.lambdify(t, y.diff(t,t))\n",
    "d3y = sym.lambdify(t, y.diff(t,t,t))\n",
    "y = sym.lambdify(t, y)"
   ]
  },
  {
   "cell_type": "code",
   "execution_count": 182,
   "id": "20741b98",
   "metadata": {},
   "outputs": [],
   "source": [
    "# aplicando as condições iniciais\n",
    "eq1 = sym.Eq(y(0),1)\n",
    "eq2 = sym.Eq(dy(0),0)\n",
    "eq3 = sym.Eq(d2y(0),-2)\n",
    "eq4 = sym.Eq(d3y(0),1)"
   ]
  },
  {
   "cell_type": "code",
   "execution_count": 183,
   "id": "6f571e5d",
   "metadata": {},
   "outputs": [
    {
     "data": {
      "text/latex": [
       "$\\displaystyle \\left\\{ c_{1} : 1.125, \\  c_{2} : 0.583333333333333, \\  c_{3} : -0.533333333333333, \\  c_{4} : -0.175\\right\\}$"
      ],
      "text/plain": [
       "{c₁: 1.125, c₂: 0.583333333333333, c₃: -0.533333333333333, c₄: -0.175}"
      ]
     },
     "execution_count": 183,
     "metadata": {},
     "output_type": "execute_result"
    }
   ],
   "source": [
    "# resolvendo o sistema\n",
    "C = sym.solve([eq1,eq2,eq3,eq4])\n",
    "C"
   ]
  },
  {
   "cell_type": "code",
   "execution_count": 184,
   "id": "ffb64469",
   "metadata": {},
   "outputs": [
    {
     "data": {
      "text/latex": [
       "$\\displaystyle - 0.533333333333333 e^{2 t} + 1.125 e^{t} + 0.583333333333333 e^{- t} - 0.175 e^{- 3 t}$"
      ],
      "text/plain": [
       "                     2⋅t          t                      -t          -3⋅t\n",
       "- 0.533333333333333⋅ℯ    + 1.125⋅ℯ  + 0.583333333333333⋅ℯ   - 0.175⋅ℯ    "
      ]
     },
     "execution_count": 184,
     "metadata": {},
     "output_type": "execute_result"
    }
   ],
   "source": [
    "s_part = C[c1]*sym.exp(t)+C[c2]*sym.exp(-t)+C[c3]*sym.exp(2*t)+C[c4]*sym.exp(-3*t)\n",
    "s_part"
   ]
  },
  {
   "cell_type": "markdown",
   "id": "187e2c34",
   "metadata": {},
   "source": [
    "O mesmo resultado poderia ser obtido fazendo simplesmente"
   ]
  },
  {
   "cell_type": "code",
   "execution_count": 185,
   "id": "75fe87fb",
   "metadata": {},
   "outputs": [
    {
     "data": {
      "text/latex": [
       "$\\displaystyle y{\\left(t \\right)} = - \\frac{2 e^{2 t}}{3} + \\frac{11 e^{t}}{8} + \\frac{5 e^{- t}}{12} - \\frac{e^{- 3 t}}{8}$"
      ],
      "text/plain": [
       "            2⋅t       t      -t    -3⋅t\n",
       "         2⋅ℯ      11⋅ℯ    5⋅ℯ     ℯ    \n",
       "y(t) = - ────── + ───── + ───── - ─────\n",
       "           3        8       12      8  "
      ]
     },
     "execution_count": 185,
     "metadata": {},
     "output_type": "execute_result"
    }
   ],
   "source": [
    "y = sym.Function('y')(t)\n",
    "\n",
    "eq = y.diff(t,t,t,t)+y.diff(t,t,t)-7*y.diff(t,t)-y.diff(t)+6*y\n",
    "\n",
    "sol = sym.dsolve(eq, y,\n",
    "           ics={y.subs(t, 0):1, \n",
    "                y.diff(t).subs(t, 0): 0,\n",
    "                y.diff(t,t).subs(t, 0): -2,\n",
    "                y.diff(t,t,t).subs(t, 0): -1})\n",
    "sol"
   ]
  },
  {
   "cell_type": "code",
   "execution_count": 186,
   "id": "79bc909d",
   "metadata": {},
   "outputs": [],
   "source": [
    "import numpy as np\n",
    "import matplotlib.pyplot as plt"
   ]
  },
  {
   "cell_type": "code",
   "execution_count": 187,
   "id": "64030eed",
   "metadata": {},
   "outputs": [
    {
     "data": {
      "image/png": "[encoded data removed]",
      "text/plain": [
       "<Figure size 432x288 with 1 Axes>"
      ]
     },
     "metadata": {
      "needs_background": "light"
     },
     "output_type": "display_data"
    }
   ],
   "source": [
    "f = sym.lambdify(t,sol.rhs)\n",
    "t = np.linspace(0,1)\n",
    "plt.plot(t, f(t))\n",
    "plt.grid()\n",
    "plt.show()"
   ]
  },
  {
   "cell_type": "markdown",
   "id": "6b73dcdd",
   "metadata": {},
   "source": [
    "**Exemplo 2 (Raízes complexas):** Encontre a solução geral de $$y^{(4)}-y'=0$$ \n",
    "\n",
    "com $y(0)=7/2$, $y'(0)=-4$, $y''(0)=5/2$ e $y'''(0)=-2$ e plote o gráfico."
   ]
  },
  {
   "cell_type": "code",
   "execution_count": 188,
   "id": "c1aacc94",
   "metadata": {},
   "outputs": [
    {
     "data": {
      "text/latex": [
       "$\\displaystyle \\left[ -1, \\  1, \\  - i, \\  i\\right]$"
      ],
      "text/plain": [
       "[-1, 1, -ⅈ, ⅈ]"
      ]
     },
     "execution_count": 188,
     "metadata": {},
     "output_type": "execute_result"
    }
   ],
   "source": [
    "#resolvendo a equação característica\n",
    "sym.solve(r**4-1)    "
   ]
  },
  {
   "cell_type": "code",
   "execution_count": 189,
   "id": "ada3c298",
   "metadata": {},
   "outputs": [
    {
     "data": {
      "text/latex": [
       "$\\displaystyle y{\\left(t \\right)} = C_{1} e^{- t} + C_{2} e^{t} + C_{3} \\sin{\\left(t \\right)} + C_{4} \\cos{\\left(t \\right)}$"
      ],
      "text/plain": [
       "           -t       t                        \n",
       "y(t) = C₁⋅ℯ   + C₂⋅ℯ  + C₃⋅sin(t) + C₄⋅cos(t)"
      ]
     },
     "execution_count": 189,
     "metadata": {},
     "output_type": "execute_result"
    }
   ],
   "source": [
    "#escrevendo a solução geral\n",
    "t = sym.symbols('t')\n",
    "y = sym.Function('y')(t)\n",
    "eq = y.diff(t,t,t,t)-y\n",
    "sym.dsolve(eq, y)"
   ]
  },
  {
   "cell_type": "code",
   "execution_count": 190,
   "id": "77cfe3cc",
   "metadata": {},
   "outputs": [
    {
     "data": {
      "text/latex": [
       "$\\displaystyle y{\\left(t \\right)} = - 1.0 \\sin{\\left(t \\right)} + 0.5 \\cos{\\left(t \\right)} + 3.0 e^{- t}$"
      ],
      "text/plain": [
       "                                       -t\n",
       "y(t) = -1.0⋅sin(t) + 0.5⋅cos(t) + 3.0⋅ℯ  "
      ]
     },
     "execution_count": 190,
     "metadata": {},
     "output_type": "execute_result"
    }
   ],
   "source": [
    "sol = sym.dsolve(eq, y,\n",
    "           ics={y.subs(t, 0):7/2, \n",
    "                y.diff(t).subs(t, 0): -4,\n",
    "                y.diff(t,t).subs(t, 0): 5/2,\n",
    "                y.diff(t,t,t).subs(t, 0): -2})\n",
    "sol"
   ]
  },
  {
   "cell_type": "code",
   "execution_count": 191,
   "id": "3fbaf8b7",
   "metadata": {},
   "outputs": [
    {
     "data": {
      "image/png": "[encoded data removed]",
      "text/plain": [
       "<Figure size 432x288 with 1 Axes>"
      ]
     },
     "metadata": {
      "needs_background": "light"
     },
     "output_type": "display_data"
    }
   ],
   "source": [
    "f = sym.lambdify(t,sol.rhs)\n",
    "t = np.linspace(0,20,100)\n",
    "plt.plot(t, f(t))\n",
    "plt.grid()\n",
    "plt.show()"
   ]
  },
  {
   "cell_type": "markdown",
   "id": "e16121f0",
   "metadata": {},
   "source": [
    "**Exemplo 3 (Raízes repetidas):** Encontre a solução geral de $y^{(4)}+2y''+y'=0$."
   ]
  },
  {
   "cell_type": "code",
   "execution_count": 192,
   "id": "a35745e0",
   "metadata": {},
   "outputs": [
    {
     "data": {
      "text/latex": [
       "$\\displaystyle \\left[ - i, \\  i\\right]$"
      ],
      "text/plain": [
       "[-ⅈ, ⅈ]"
      ]
     },
     "execution_count": 192,
     "metadata": {},
     "output_type": "execute_result"
    }
   ],
   "source": [
    "#resolvendo a equação característica\n",
    "sym.solve(r**4+2*r**2+1)    "
   ]
  },
  {
   "cell_type": "code",
   "execution_count": 193,
   "id": "ef242efb",
   "metadata": {},
   "outputs": [
    {
     "data": {
      "text/latex": [
       "$\\displaystyle y{\\left(t \\right)} = \\left(C_{1} + C_{2} t\\right) \\sin{\\left(t \\right)} + \\left(C_{3} + C_{4} t\\right) \\cos{\\left(t \\right)}$"
      ],
      "text/plain": [
       "y(t) = (C₁ + C₂⋅t)⋅sin(t) + (C₃ + C₄⋅t)⋅cos(t)"
      ]
     },
     "execution_count": 193,
     "metadata": {},
     "output_type": "execute_result"
    }
   ],
   "source": [
    "#escrevendo a solução geral\n",
    "t = sym.symbols('t')\n",
    "y = sym.Function('y')(t)\n",
    "eq = y.diff(t,t,t,t)+2*y.diff(t,t)+y\n",
    "sym.dsolve(eq, y)"
   ]
  },
  {
   "cell_type": "markdown",
   "id": "9b859242",
   "metadata": {},
   "source": [
    "**Exemplo 4 (Raízes repetidas):** Encontre a solução geral de $y^{(4)}+y'=0$."
   ]
  },
  {
   "cell_type": "code",
   "execution_count": 194,
   "id": "ab018322",
   "metadata": {},
   "outputs": [
    {
     "data": {
      "text/latex": [
       "$\\displaystyle \\left[ - \\frac{\\sqrt{2}}{2} - \\frac{\\sqrt{2} i}{2}, \\  - \\frac{\\sqrt{2}}{2} + \\frac{\\sqrt{2} i}{2}, \\  \\frac{\\sqrt{2}}{2} - \\frac{\\sqrt{2} i}{2}, \\  \\frac{\\sqrt{2}}{2} + \\frac{\\sqrt{2} i}{2}\\right]$"
      ],
      "text/plain": [
       "⎡  √2   √2⋅ⅈ    √2   √2⋅ⅈ  √2   √2⋅ⅈ  √2   √2⋅ⅈ⎤\n",
       "⎢- ── - ────, - ── + ────, ── - ────, ── + ────⎥\n",
       "⎣  2     2      2     2    2     2    2     2  ⎦"
      ]
     },
     "execution_count": 194,
     "metadata": {},
     "output_type": "execute_result"
    }
   ],
   "source": [
    "#resolvendo a equação característica\n",
    "sym.solve(r**4+1)    "
   ]
  },
  {
   "cell_type": "code",
   "execution_count": 195,
   "id": "e3c67a1e",
   "metadata": {},
   "outputs": [
    {
     "data": {
      "text/latex": [
       "$\\displaystyle y{\\left(t \\right)} = \\left(C_{1} \\sin{\\left(\\frac{\\sqrt{2} t}{2} \\right)} + C_{2} \\cos{\\left(\\frac{\\sqrt{2} t}{2} \\right)}\\right) e^{- \\frac{\\sqrt{2} t}{2}} + \\left(C_{3} \\sin{\\left(\\frac{\\sqrt{2} t}{2} \\right)} + C_{4} \\cos{\\left(\\frac{\\sqrt{2} t}{2} \\right)}\\right) e^{\\frac{\\sqrt{2} t}{2}}$"
      ],
      "text/plain": [
       "                                      -√2⋅t                                   \n",
       "                                      ──────                                  \n",
       "       ⎛      ⎛√2⋅t⎞         ⎛√2⋅t⎞⎞    2      ⎛      ⎛√2⋅t⎞         ⎛√2⋅t⎞⎞  \n",
       "y(t) = ⎜C₁⋅sin⎜────⎟ + C₂⋅cos⎜────⎟⎟⋅ℯ       + ⎜C₃⋅sin⎜────⎟ + C₄⋅cos⎜────⎟⎟⋅ℯ\n",
       "       ⎝      ⎝ 2  ⎠         ⎝ 2  ⎠⎠           ⎝      ⎝ 2  ⎠         ⎝ 2  ⎠⎠  \n",
       "\n",
       "√2⋅t\n",
       "────\n",
       " 2  \n",
       "    \n",
       "    "
      ]
     },
     "execution_count": 195,
     "metadata": {},
     "output_type": "execute_result"
    }
   ],
   "source": [
    "#escrevendo a solução geral\n",
    "t = sym.symbols('t')\n",
    "y = sym.Function('y')(t)\n",
    "eq = y.diff(t,t,t,t)+y\n",
    "sym.dsolve(eq, y)"
   ]
  },
  {
   "cell_type": "code",
   "execution_count": null,
   "id": "7e1d1cc6",
   "metadata": {},
   "outputs": [],
   "source": []
  },
  {
   "cell_type": "code",
   "execution_count": null,
   "id": "9d561905",
   "metadata": {},
   "outputs": [],
   "source": []
  }
 ],
 "metadata": {
  "kernelspec": {
   "display_name": "Python 3",
   "language": "python",
   "name": "python3"
  },
  "language_info": {
   "codemirror_mode": {
    "name": "ipython",
    "version": 3
   },
   "file_extension": ".py",
   "mimetype": "text/x-python",
   "name": "python",
   "nbconvert_exporter": "python",
   "pygments_lexer": "ipython3",
   "version": "3.8.5"
  }
 },
 "nbformat": 4,
 "nbformat_minor": 5
}
